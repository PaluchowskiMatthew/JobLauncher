{
 "cells": [
  {
   "cell_type": "code",
   "execution_count": 1,
   "metadata": {
    "collapsed": false
   },
   "outputs": [],
   "source": [
    "import joblauncher"
   ]
  },
  {
   "cell_type": "code",
   "execution_count": 2,
   "metadata": {
    "collapsed": false
   },
   "outputs": [],
   "source": [
    "joblauncher = joblauncher.JobLauncher()\n"
   ]
  },
  {
   "cell_type": "code",
   "execution_count": 3,
   "metadata": {
    "collapsed": false
   },
   "outputs": [
    {
     "data": {
      "text/plain": [
       "{'_allocation_time': '1:00:00',\n",
       " '_cookies': None,\n",
       " '_exclusive_allocation': False,\n",
       " '_nb_cpus': 1,\n",
       " '_nb_gpus': 0,\n",
       " '_nb_nodes': 1,\n",
       " '_renderer': 'bbic_wrapper',\n",
       " '_reservation': '',\n",
       " '_resource_url': None,\n",
       " '_url_config': 'http://bbpcd013.bbp.epfl.ch/nip/rendering-resource-manager/v1/config/',\n",
       " '_url_service': 'http://bbpcd013.bbp.epfl.ch/nip/rendering-resource-manager/v1',\n",
       " '_url_session': 'http://bbpcd013.bbp.epfl.ch/nip/rendering-resource-manager/v1/session/',\n",
       " 'launched_job_url': None}"
      ]
     },
     "execution_count": 3,
     "metadata": {},
     "output_type": "execute_result"
    }
   ],
   "source": [
    "allocation_settings = joblauncher.get_allocation_settings()\n",
    "allocation_settings"
   ]
  },
  {
   "cell_type": "code",
   "execution_count": 4,
   "metadata": {
    "collapsed": false
   },
   "outputs": [],
   "source": [
    "# allocation_settings = joblauncher.edit_allocation_settings(_url_config='http://localhost:9001/rendering-resource-manager/v1/config/',\n",
    "#                                                           _url_service='http://localhost:9001/rendering-resource-manager/v1',\n",
    "#                                                           _url_session='http://localhost:9001/rendering-resource-manager/v1/session/')\n",
    "# allocation_settings"
   ]
  },
  {
   "cell_type": "code",
   "execution_count": 5,
   "metadata": {
    "collapsed": false
   },
   "outputs": [],
   "source": [
    "# renderer = joblauncher.create_job_renderer()\n",
    "# renderer.show_response()"
   ]
  },
  {
   "cell_type": "code",
   "execution_count": 6,
   "metadata": {
    "collapsed": false
   },
   "outputs": [],
   "source": [
    "server_response = joblauncher.config_list() #Default"
   ]
  },
  {
   "cell_type": "code",
   "execution_count": 7,
   "metadata": {
    "collapsed": false
   },
   "outputs": [
    {
     "name": "stdout",
     "output_type": "stream",
     "text": [
      "'HTTP status code: 200'\n",
      "'Contents: [OrderedDict([(u\\'id\\', u\\'bbic_stack\\'), (u\\'command_line\\', u\\'python3 -u /gpfs/bbp.cscs.ch/apps/viz/bbp/dev/Wrapper/services/bbic_stack/bbic_stack.py ~/out_vm.h5 --create-from /gpfs/bbp.cscs.ch/home/tresch/bigbrain600/list.txt --orientation coronal --all-stacks\\'), (u\\'environment_variables\\', u\\'\\'), (u\\'modules\\', u\\'BBP/viz/latest BBP/viz/hdf5/1.8.15 BBP/viz/python/3.4.3\\'), (u\\'process_rest_parameters_format\\', u\\'\\'), (u\\'scheduler_rest_parameters_format\\', u\\'\\'), (u\\'project\\', u\\'proj39\\'), (u\\'queue\\', u\\'prod\\'), (u\\'exclusive\\', False), (u\\'nb_nodes\\', 1), (u\\'nb_cpus\\', 1), (u\\'nb_gpus\\', 0), (u\\'graceful_exit\\', False), (u\\'wait_until_running\\', False), (u\\'name\\', u\\'bbic_stack\\'), (u\\'description\\', u\\'raw bbic stack\\')]), OrderedDict([(u\\'id\\', u\\'bbic_wrapper\\'), (u\\'command_line\\', u\\'pip3 install flask --user; python3 /gpfs/bbp.cscs.ch/apps/viz/bbp/dev/Wrapper/wrapper.py\\'), (u\\'environment_variables\\', u\\'\\'), (u\\'modules\\', u\\'BBP/viz/latest BBP/viz/hdf5/1.8.15 BBP/viz/python/3.4.3\\'), (u\\'process_rest_parameters_format\\', u\\'\\'), (u\\'scheduler_rest_parameters_format\\', u\\'--script-command \"python3 -u /gpfs/bbp.cscs.ch/apps/viz/bbp/dev/Wrapper/services/bbic_stack/bbic_stack.py /gpfs/bbp.cscs.ch/home/bbpnisoa/rrm_test/out_vm.h5 --create-from /gpfs/bbp.cscs.ch/home/tresch/bigbrain600/list.txt --orientation coronal --all-stacks\" --host \"${rest_hostname}\" --port \"${rest_port}\"\\'), (u\\'project\\', u\\'proj39\\'), (u\\'queue\\', u\\'interactive\\'), (u\\'exclusive\\', False), (u\\'nb_nodes\\', 1), (u\\'nb_cpus\\', 1), (u\\'nb_gpus\\', 0), (u\\'graceful_exit\\', False), (u\\'wait_until_running\\', False), (u\\'name\\', u\\'bbic\\'), (u\\'description\\', u\\'wrapper for bbic\\')]), OrderedDict([(u\\'id\\', u\\'brain_filtering_wrapper\\'), (u\\'command_line\\', u\\'pip install flask --user; pip install nrrd --user; python -u /gpfs/bbp.cscs.ch/apps/viz/bbp/dev/Wrapper/wrapper.py\\'), (u\\'environment_variables\\', u\\'\\'), (u\\'modules\\', u\\'\\'), (u\\'process_rest_parameters_format\\', u\\'\\'), (u\\'scheduler_rest_parameters_format\\', u\\'--script-command \"python -u /gpfs/bbp.cscs.ch/apps/viz/bbp/dev/Wrapper/services/brain_region_filtering/filter_nrrd_by_brain_regions.py -r /gpfs/bbp.cscs.ch/home/tresch/nrrd10/datafiles/brain_regions_annotation_10.nrrd -g /gpfs/bbp.cscs.ch/home/tresch/nrrd10/datafiles/gray_scale_average_template_10.nrrd -n /gpfs/bbp.cscs.ch/home/tresch/nrrd10/datafiles/nissl_fake_file_average_template_10.nrrd -o /gpfs/bbp.cscs.ch/project/proj39/rrm_test\" --host \"${rest_hostname}\" --port \"${rest_port}\"\\'), (u\\'project\\', u\\'proj39\\'), (u\\'queue\\', u\\'prod\\'), (u\\'exclusive\\', False), (u\\'nb_nodes\\', 1), (u\\'nb_cpus\\', 1), (u\\'nb_gpus\\', 0), (u\\'graceful_exit\\', False), (u\\'wait_until_running\\', False), (u\\'name\\', u\\'brain filtering\\'), (u\\'description\\', u\\'Wrapper for Brain Region Filtering\\')])]'\n",
      "'Cookies:<RequestsCookieJar[]>'\n"
     ]
    }
   ],
   "source": [
    "server_response.show_response()"
   ]
  },
  {
   "cell_type": "code",
   "execution_count": 8,
   "metadata": {
    "collapsed": false
   },
   "outputs": [],
   "source": [
    "renderer_settings = joblauncher.get_job_settings('bbic_wrapper')"
   ]
  },
  {
   "cell_type": "code",
   "execution_count": 9,
   "metadata": {
    "collapsed": false
   },
   "outputs": [
    {
     "data": {
      "text/plain": [
       "{u'command_line': u'pip3 install flask --user; python3 /gpfs/bbp.cscs.ch/apps/viz/bbp/dev/Wrapper/wrapper.py',\n",
       " u'description': u'wrapper for bbic',\n",
       " u'environment_variables': u'',\n",
       " u'exclusive': False,\n",
       " u'graceful_exit': False,\n",
       " u'id': u'bbic_wrapper',\n",
       " u'modules': u'BBP/viz/latest BBP/viz/hdf5/1.8.15 BBP/viz/python/3.4.3',\n",
       " u'name': u'bbic',\n",
       " u'nb_cpus': 1,\n",
       " u'nb_gpus': 0,\n",
       " u'nb_nodes': 1,\n",
       " u'process_rest_parameters_format': u'',\n",
       " u'project': u'proj39',\n",
       " u'queue': u'interactive',\n",
       " u'scheduler_rest_parameters_format': u'--script-command \"python3 -u /gpfs/bbp.cscs.ch/apps/viz/bbp/dev/Wrapper/services/bbic_stack/bbic_stack.py /gpfs/bbp.cscs.ch/home/bbpnisoa/rrm_test/out_vm.h5 --create-from /gpfs/bbp.cscs.ch/home/tresch/bigbrain600/list.txt --orientation coronal --all-stacks\" --host \"${rest_hostname}\" --port \"${rest_port}\"',\n",
       " u'wait_until_running': False}"
      ]
     },
     "execution_count": 9,
     "metadata": {},
     "output_type": "execute_result"
    }
   ],
   "source": [
    "renderer_settings"
   ]
  },
  {
   "cell_type": "code",
   "execution_count": 10,
   "metadata": {
    "collapsed": false
   },
   "outputs": [
    {
     "data": {
      "text/plain": [
       "{u'command_line': u'pip install flask --user; pip install nrrd --user; python -u /gpfs/bbp.cscs.ch/apps/viz/bbp/dev/Wrapper/wrapper.py',\n",
       " u'description': u'Wrapper for Brain Region Filtering',\n",
       " u'environment_variables': u'',\n",
       " u'exclusive': False,\n",
       " u'graceful_exit': False,\n",
       " u'id': u'brain_filtering_wrapper',\n",
       " u'modules': u'',\n",
       " u'name': u'brain filtering',\n",
       " u'nb_cpus': 1,\n",
       " u'nb_gpus': 0,\n",
       " u'nb_nodes': 1,\n",
       " u'process_rest_parameters_format': u'',\n",
       " u'project': u'proj39',\n",
       " u'queue': u'prod',\n",
       " u'scheduler_rest_parameters_format': u'--script-command \"python -u /gpfs/bbp.cscs.ch/apps/viz/bbp/dev/Wrapper/services/brain_region_filtering/filter_nrrd_by_brain_regions.py -r /gpfs/bbp.cscs.ch/home/tresch/nrrd10/datafiles/brain_regions_annotation_10.nrrd -g /gpfs/bbp.cscs.ch/home/tresch/nrrd10/datafiles/gray_scale_average_template_10.nrrd -n /gpfs/bbp.cscs.ch/home/tresch/nrrd10/datafiles/nissl_fake_file_average_template_10.nrrd -o /gpfs/bbp.cscs.ch/project/proj39/rrm_test\" --host \"${rest_hostname}\" --port \"${rest_port}\"',\n",
       " u'wait_until_running': False}"
      ]
     },
     "execution_count": 10,
     "metadata": {},
     "output_type": "execute_result"
    }
   ],
   "source": [
    "renderer_settings = joblauncher.get_job_settings('brain_filtering_wrapper')\n",
    "renderer_settings"
   ]
  },
  {
   "cell_type": "code",
   "execution_count": 11,
   "metadata": {
    "collapsed": false
   },
   "outputs": [],
   "source": [
    "# joblauncher.edit_job_settings('bbic_stack', command_line='python -u /gpfs/bbp.cscs.ch/apps/viz/bbp/dev/Wrapper/services/bbic_stack/bbic_stack.py ~/out_vm.h5 --create-from /gpfs/bbp.cscs.ch/home/tresch/bigbrain600/list.txt --orientation coronal --all-stacks')"
   ]
  },
  {
   "cell_type": "code",
   "execution_count": 12,
   "metadata": {
    "collapsed": false
   },
   "outputs": [
    {
     "data": {
      "text/plain": [
       "{u'command_line': u'python3 -u /gpfs/bbp.cscs.ch/apps/viz/bbp/dev/Wrapper/services/bbic_stack/bbic_stack.py ~/out_vm.h5 --create-from /gpfs/bbp.cscs.ch/home/tresch/bigbrain600/list.txt --orientation coronal --all-stacks',\n",
       " u'description': u'raw bbic stack',\n",
       " u'environment_variables': u'',\n",
       " u'exclusive': False,\n",
       " u'graceful_exit': False,\n",
       " u'id': u'bbic_stack',\n",
       " u'modules': u'BBP/viz/latest BBP/viz/hdf5/1.8.15 BBP/viz/python/3.4.3',\n",
       " u'name': u'bbic_stack',\n",
       " u'nb_cpus': 1,\n",
       " u'nb_gpus': 0,\n",
       " u'nb_nodes': 1,\n",
       " u'process_rest_parameters_format': u'',\n",
       " u'project': u'proj39',\n",
       " u'queue': u'prod',\n",
       " u'scheduler_rest_parameters_format': u'',\n",
       " u'wait_until_running': False}"
      ]
     },
     "execution_count": 12,
     "metadata": {},
     "output_type": "execute_result"
    }
   ],
   "source": [
    "renderer_settings = joblauncher.get_job_settings('bbic_stack')\n",
    "renderer_settings"
   ]
  },
  {
   "cell_type": "code",
   "execution_count": 13,
   "metadata": {
    "collapsed": false
   },
   "outputs": [],
   "source": [
    "# joblauncher.edit_job_settings('brain_filtering_wrapper', command_line='pip install flask --user; pip install nrrd --user; python -u /gpfs/bbp.cscs.ch/apps/viz/bbp/dev/Wrapper/wrapper.py')"
   ]
  },
  {
   "cell_type": "code",
   "execution_count": 14,
   "metadata": {
    "collapsed": false
   },
   "outputs": [],
   "source": [
    "# joblauncher.edit_job_settings('brain_filtering_wrapper', modules='')"
   ]
  },
  {
   "cell_type": "code",
   "execution_count": 15,
   "metadata": {
    "collapsed": false
   },
   "outputs": [],
   "source": [
    "# joblauncher.edit_job_settings('brain_filtering_wrapper', scheduler_rest_parameters_format='--script-command \"python -u /gpfs/bbp.cscs.ch/apps/viz/bbp/dev/Wrapper/services/brain_region_filtering/filter_nrrd_by_brain_regions.py -r /gpfs/bbp.cscs.ch/home/tresch/nrrd10/datafiles/brain_regions_annotation_10.nrrd -g /gpfs/bbp.cscs.ch/home/tresch/nrrd10/datafiles/gray_scale_average_template_10.nrrd -n /gpfs/bbp.cscs.ch/home/tresch/nrrd10/datafiles/nissl_fake_file_average_template_10.nrrd -o /gpfs/bbp.cscs.ch/project/proj39/rrm_test\" --host \"${rest_hostname}\" --port \"${rest_port}\"')"
   ]
  },
  {
   "cell_type": "code",
   "execution_count": 16,
   "metadata": {
    "collapsed": false
   },
   "outputs": [],
   "source": [
    "# joblauncher.edit_job_settings('bbic_wrapper', scheduler_rest_parameters_format='--script-command \"python3 -u /gpfs/bbp.cscs.ch/apps/viz/bbp/dev/Wrapper/services/bbic_stack/bbic_stack.py /gpfs/bbp.cscs.ch/project/proj39/rrm_test/out_vm.h5 --create-from /gpfs/bbp.cscs.ch/home/tresch/bigbrain600/list.txt --orientation coronal --all-stacks\" --host \"${rest_hostname}\" --port \"${rest_port}\"')"
   ]
  },
  {
   "cell_type": "code",
   "execution_count": 17,
   "metadata": {
    "collapsed": false,
    "scrolled": true
   },
   "outputs": [
    {
     "name": "stdout",
     "output_type": "stream",
     "text": [
      "Job scheduled and launched!\n"
     ]
    }
   ],
   "source": [
    "joblauncher.schedule_and_launch_job('bbic_wrapper')"
   ]
  },
  {
   "cell_type": "code",
   "execution_count": 18,
   "metadata": {
    "collapsed": false
   },
   "outputs": [],
   "source": [
    "# joblauncher.schedule_and_launch_job('bbic_wrapper')"
   ]
  },
  {
   "cell_type": "code",
   "execution_count": 19,
   "metadata": {
    "collapsed": false
   },
   "outputs": [
    {
     "data": {
      "text/plain": [
       "u'http://bbpviz013.cscs.ch:3760'"
      ]
     },
     "execution_count": 19,
     "metadata": {},
     "output_type": "execute_result"
    }
   ],
   "source": [
    "joblauncher.launched_job_url"
   ]
  },
  {
   "cell_type": "code",
   "execution_count": 20,
   "metadata": {
    "collapsed": false
   },
   "outputs": [],
   "source": [
    "# joblauncher.launched_job_url = 'http://bbpviz030.cscs.ch:3013'"
   ]
  },
  {
   "cell_type": "code",
   "execution_count": 22,
   "metadata": {
    "collapsed": false
   },
   "outputs": [
    {
     "name": "stderr",
     "output_type": "stream",
     "text": [
      "100%|██████████| 100/100 [01:00<00:00,  2.25it/s]"
     ]
    },
    {
     "name": "stdout",
     "output_type": "stream",
     "text": [
      "Job completed!\n"
     ]
    },
    {
     "name": "stderr",
     "output_type": "stream",
     "text": [
      "\n"
     ]
    }
   ],
   "source": [
    "joblauncher.get_job_status()"
   ]
  },
  {
   "cell_type": "code",
   "execution_count": null,
   "metadata": {
    "collapsed": true
   },
   "outputs": [],
   "source": []
  }
 ],
 "metadata": {
  "kernelspec": {
   "display_name": "Python 2",
   "language": "python",
   "name": "python2"
  },
  "language_info": {
   "codemirror_mode": {
    "name": "ipython",
    "version": 2
   },
   "file_extension": ".py",
   "mimetype": "text/x-python",
   "name": "python",
   "nbconvert_exporter": "python",
   "pygments_lexer": "ipython2",
   "version": "2.7.13"
  }
 },
 "nbformat": 4,
 "nbformat_minor": 2
}
