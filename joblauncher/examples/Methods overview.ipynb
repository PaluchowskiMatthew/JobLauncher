{
 "cells": [
  {
   "cell_type": "markdown",
   "metadata": {},
   "source": [
    "# Overview of methods available in joblauncher package"
   ]
  },
  {
   "cell_type": "code",
   "execution_count": 1,
   "metadata": {
    "collapsed": false,
    "scrolled": true
   },
   "outputs": [],
   "source": [
    "import joblauncher"
   ]
  },
  {
   "cell_type": "markdown",
   "metadata": {},
   "source": [
    "### Initialize joblauncher with default settings."
   ]
  },
  {
   "cell_type": "code",
   "execution_count": 2,
   "metadata": {
    "collapsed": false
   },
   "outputs": [],
   "source": [
    "joblauncher = joblauncher.JobLauncher()"
   ]
  },
  {
   "cell_type": "markdown",
   "metadata": {},
   "source": [
    "### Get allocation settings"
   ]
  },
  {
   "cell_type": "code",
   "execution_count": 3,
   "metadata": {
    "collapsed": false,
    "scrolled": true
   },
   "outputs": [
    {
     "data": {
      "text/plain": [
       "{'_allocation_time': '1:00:00',\n",
       " '_cookies': None,\n",
       " '_exclusive_allocation': False,\n",
       " '_nb_cpus': 1,\n",
       " '_nb_gpus': 0,\n",
       " '_nb_nodes': 1,\n",
       " '_renderer': 'bbic_wrapper',\n",
       " '_reservation': '',\n",
       " '_resource_url': None,\n",
       " '_url_config': 'http://bbpcd013.bbp.epfl.ch/nip/rendering-resource-manager/v1/config/',\n",
       " '_url_service': 'http://bbpcd013.bbp.epfl.ch/nip/rendering-resource-manager/v1',\n",
       " '_url_session': 'http://bbpcd013.bbp.epfl.ch/nip/rendering-resource-manager/v1/session/'}"
      ]
     },
     "execution_count": 3,
     "metadata": {},
     "output_type": "execute_result"
    }
   ],
   "source": [
    "allocation_settings = joblauncher.get_allocation_settings()\n",
    "allocation_settings"
   ]
  },
  {
   "cell_type": "markdown",
   "metadata": {},
   "source": [
    "### Edit allocation settings"
   ]
  },
  {
   "cell_type": "code",
   "execution_count": 4,
   "metadata": {
    "collapsed": false
   },
   "outputs": [
    {
     "name": "stdout",
     "output_type": "stream",
     "text": [
      "Attribute _some_undefined_param not found in ResourceAllocator. Skipping.\n"
     ]
    },
    {
     "data": {
      "text/plain": [
       "{'_allocation_time': '1:00:00',\n",
       " '_cookies': None,\n",
       " '_exclusive_allocation': False,\n",
       " '_nb_cpus': 2,\n",
       " '_nb_gpus': 0,\n",
       " '_nb_nodes': 1,\n",
       " '_renderer': 'bbic_wrapper',\n",
       " '_reservation': '',\n",
       " '_resource_url': None,\n",
       " '_url_config': 'http://bbpcd013.bbp.epfl.ch/nip/rendering-resource-manager/v1/config/',\n",
       " '_url_service': 'http://bbpcd013.bbp.epfl.ch/nip/rendering-resource-manager/v1',\n",
       " '_url_session': 'http://bbpcd013.bbp.epfl.ch/nip/rendering-resource-manager/v1/session/'}"
      ]
     },
     "execution_count": 4,
     "metadata": {},
     "output_type": "execute_result"
    }
   ],
   "source": [
    "allocation_settings = joblauncher.edit_allocation_settings(_nb_cpus=2, _some_undefined_param=\"test\")\n",
    "allocation_settings"
   ]
  },
  {
   "cell_type": "markdown",
   "metadata": {},
   "source": [
    "### Get job (renderer) settings."
   ]
  },
  {
   "cell_type": "code",
   "execution_count": 5,
   "metadata": {
    "collapsed": false
   },
   "outputs": [
    {
     "data": {
      "text/plain": [
       "{u'command_line': u'pip install flask --user; python /gpfs/bbp.cscs.ch/apps/viz/bbp/dev/wrapper/wrapper.py',\n",
       " u'description': u'wrapper for bbic',\n",
       " u'environment_variables': u'',\n",
       " u'exclusive': False,\n",
       " u'graceful_exit': False,\n",
       " u'id': u'bbic_wrapper',\n",
       " u'modules': u'BBP/viz/latest BBP/viz/hdf5/1.8.15 BBP/viz/python/3.4.3',\n",
       " u'name': u'bbic',\n",
       " u'nb_cpus': 1,\n",
       " u'nb_gpus': 0,\n",
       " u'nb_nodes': 1,\n",
       " u'process_rest_parameters_format': u'',\n",
       " u'project': u'proj39',\n",
       " u'queue': u'test',\n",
       " u'scheduler_rest_parameters_format': u'--script-command \"bbic_stack.py /gpfs/bbp.cscs.ch/project/proj39/rrm_test/out_vm.h5 --create-from /gpfs/bbp.cscs.ch/home/tresch/bigbrain600/list.txt --orientation coronal --all-stacks\" --host \"${rest_hostname}\" --port \"${rest_port}\"',\n",
       " u'wait_until_running': False}"
      ]
     },
     "execution_count": 5,
     "metadata": {},
     "output_type": "execute_result"
    }
   ],
   "source": [
    "renderer_settings = joblauncher.get_job_settings('bbic_wrapper')\n",
    "renderer_settings"
   ]
  },
  {
   "cell_type": "markdown",
   "metadata": {},
   "source": [
    "### Create job renderer\n",
    "Creates new renderer (if it doeasnt already exist) basing either on settings provided or default renderer if settings parameter is not provided"
   ]
  },
  {
   "cell_type": "code",
   "execution_count": 6,
   "metadata": {
    "collapsed": false
   },
   "outputs": [],
   "source": [
    "server_response = joblauncher.create_job_renderer() #Default"
   ]
  },
  {
   "cell_type": "code",
   "execution_count": 7,
   "metadata": {
    "collapsed": false
   },
   "outputs": [
    {
     "name": "stdout",
     "output_type": "stream",
     "text": [
      "'HTTP status code: 409'\n",
      "'Contents: {\"contents\": \"column id is not unique\"}'\n",
      "'Cookies:<RequestsCookieJar[]>'\n"
     ]
    }
   ],
   "source": [
    "server_response.show_response()"
   ]
  },
  {
   "cell_type": "markdown",
   "metadata": {},
   "source": [
    "Create a custom renderer basing on the settings provided."
   ]
  },
  {
   "cell_type": "code",
   "execution_count": 8,
   "metadata": {
    "collapsed": true
   },
   "outputs": [],
   "source": [
    "custom_renderer_payload = {\n",
    "            \"id\": \"bbic_wrapper2\",\n",
    "            \"command_line\": \"pip install flask --user; python /gpfs/bbp.cscs.ch/apps/viz/bbp/dev/wrapper/wrapper.py\",\n",
    "            \"environment_variables\": \"\",\n",
    "            \"modules\": \"BBP/viz/latest BBP/viz/hdf5/1.8.15 BBP/viz/python/3.4.3\",\n",
    "            \"process_rest_parameters_format\": \"\",\n",
    "            \"scheduler_rest_parameters_format\": '--script-command \"bbic_stack.py /gpfs/bbp.cscs.ch/project/proj39/rrm_test/out_vm.h5 --create-from /gpfs/bbp.cscs.ch/home/tresch/bigbrain600/list.txt --orientation coronal --all-stacks\" --host \"${rest_hostname}\" --port \"${rest_port}\"',\n",
    "            \"project\": \"proj39\",\n",
    "            \"queue\": \"test\",\n",
    "            \"exclusive\": False,\n",
    "            \"nb_nodes\": 1,\n",
    "            \"nb_cpus\": 1,\n",
    "            \"nb_gpus\": 0,\n",
    "            \"graceful_exit\": False,\n",
    "            \"wait_until_running\": False,\n",
    "            \"name\": \"bbic\",\n",
    "            \"description\": \"wrapper for bbic\"\n",
    "        }"
   ]
  },
  {
   "cell_type": "code",
   "execution_count": 9,
   "metadata": {
    "collapsed": false
   },
   "outputs": [],
   "source": [
    "server_response = joblauncher.create_job_renderer(payload=custom_renderer_payload)"
   ]
  },
  {
   "cell_type": "code",
   "execution_count": 10,
   "metadata": {
    "collapsed": false
   },
   "outputs": [
    {
     "name": "stdout",
     "output_type": "stream",
     "text": [
      "'HTTP status code: 409'\n",
      "'Contents: {\"contents\": \"column id is not unique\"}'\n",
      "'Cookies:<RequestsCookieJar[]>'\n"
     ]
    }
   ],
   "source": [
    "server_response.show_response()"
   ]
  },
  {
   "cell_type": "markdown",
   "metadata": {},
   "source": [
    "### Get job settings"
   ]
  },
  {
   "cell_type": "code",
   "execution_count": 11,
   "metadata": {
    "collapsed": false
   },
   "outputs": [
    {
     "data": {
      "text/plain": [
       "{u'command_line': u'pip install flask --user; python /gpfs/bbp.cscs.ch/apps/viz/bbp/dev/wrapper/wrapper.py',\n",
       " u'description': u'wrapper for bbic',\n",
       " u'environment_variables': u'',\n",
       " u'exclusive': True,\n",
       " u'graceful_exit': True,\n",
       " u'id': u'bbic_wrapper2',\n",
       " u'modules': u'BBP/viz/latest BBP/viz/hdf5/1.8.15 BBP/viz/python/3.4.3',\n",
       " u'name': u'bbic',\n",
       " u'nb_cpus': 1,\n",
       " u'nb_gpus': 0,\n",
       " u'nb_nodes': 1,\n",
       " u'process_rest_parameters_format': u'',\n",
       " u'project': u'proj39',\n",
       " u'queue': u'test',\n",
       " u'scheduler_rest_parameters_format': u'--script-command \"bbic_stack.py /gpfs/bbp.cscs.ch/project/proj39/rrm_test/out_vm.h5 --create-from /gpfs/bbp.cscs.ch/home/tresch/bigbrain600/list.txt --orientation coronal --all-stacks\" --host \"${rest_hostname}\" --port \"${rest_port}\"',\n",
       " u'wait_until_running': True}"
      ]
     },
     "execution_count": 11,
     "metadata": {},
     "output_type": "execute_result"
    }
   ],
   "source": [
    "joblauncher.get_job_settings('bbic_wrapper2')"
   ]
  },
  {
   "cell_type": "markdown",
   "metadata": {},
   "source": [
    "###  Edit job settings"
   ]
  },
  {
   "cell_type": "code",
   "execution_count": 12,
   "metadata": {
    "collapsed": true
   },
   "outputs": [],
   "source": [
    "server_response = joblauncher.edit_job_settings('bbic_wrapper2', nb_cpus=2)"
   ]
  },
  {
   "cell_type": "code",
   "execution_count": 13,
   "metadata": {
    "collapsed": false
   },
   "outputs": [
    {
     "name": "stdout",
     "output_type": "stream",
     "text": [
      "'HTTP status code: 200'\n",
      "'Contents: '\n",
      "'Cookies:<RequestsCookieJar[]>'\n"
     ]
    }
   ],
   "source": [
    "server_response.show_response()"
   ]
  },
  {
   "cell_type": "markdown",
   "metadata": {},
   "source": [
    "### Delete job settings\n"
   ]
  },
  {
   "cell_type": "code",
   "execution_count": 14,
   "metadata": {
    "collapsed": false
   },
   "outputs": [
    {
     "ename": "ValueError",
     "evalue": "No JSON object could be decoded",
     "output_type": "error",
     "traceback": [
      "\u001b[0;31m---------------------------------------------------------------------------\u001b[0m",
      "\u001b[0;31mValueError\u001b[0m                                Traceback (most recent call last)",
      "\u001b[0;32m<ipython-input-14-db262a500503>\u001b[0m in \u001b[0;36m<module>\u001b[0;34m()\u001b[0m\n\u001b[0;32m----> 1\u001b[0;31m \u001b[0mserver_response\u001b[0m \u001b[0;34m=\u001b[0m \u001b[0mjoblauncher\u001b[0m\u001b[0;34m.\u001b[0m\u001b[0mdelete_job_settings\u001b[0m\u001b[0;34m(\u001b[0m\u001b[0;34m'bbic_wrapper2'\u001b[0m\u001b[0;34m)\u001b[0m\u001b[0;34m\u001b[0m\u001b[0m\n\u001b[0m",
      "\u001b[0;32m/Users/mateusz/Dropbox/EPFL/Semester II/Semester Project/ClusterTools/joblauncher/joblauncher/job_launcher.py\u001b[0m in \u001b[0;36mdelete_job_settings\u001b[0;34m(self, renderer_id)\u001b[0m\n\u001b[1;32m    145\u001b[0m         \u001b[0;34m:\u001b[0m\u001b[0;32mreturn\u001b[0m\u001b[0;34m:\u001b[0m\u001b[0;34m\u001b[0m\u001b[0m\n\u001b[1;32m    146\u001b[0m         \"\"\"\n\u001b[0;32m--> 147\u001b[0;31m         \u001b[0;32mreturn\u001b[0m \u001b[0mself\u001b[0m\u001b[0;34m.\u001b[0m\u001b[0mconfig_delete\u001b[0m\u001b[0;34m(\u001b[0m\u001b[0;34m{\u001b[0m\u001b[0;34m\"id\"\u001b[0m\u001b[0;34m:\u001b[0m \u001b[0mrenderer_id\u001b[0m\u001b[0;34m}\u001b[0m\u001b[0;34m)\u001b[0m\u001b[0;34m\u001b[0m\u001b[0m\n\u001b[0m\u001b[1;32m    148\u001b[0m \u001b[0;34m\u001b[0m\u001b[0m\n\u001b[1;32m    149\u001b[0m \u001b[0;34m\u001b[0m\u001b[0m\n",
      "\u001b[0;32m/Users/mateusz/Dropbox/EPFL/Semester II/Semester Project/ClusterTools/joblauncher/joblauncher/resource_allocator.pyc\u001b[0m in \u001b[0;36mconfig_delete\u001b[0;34m(self, payload)\u001b[0m\n\u001b[1;32m    234\u001b[0m         \"\"\"\n\u001b[1;32m    235\u001b[0m         return self._status_check(http_request(\n\u001b[0;32m--> 236\u001b[0;31m             HTTP_METHOD_DELETE, self._url_config, payload, None, self._cookies))\n\u001b[0m\u001b[1;32m    237\u001b[0m \u001b[0;34m\u001b[0m\u001b[0m\n\u001b[1;32m    238\u001b[0m     \u001b[0;32mdef\u001b[0m \u001b[0m_status_check\u001b[0m\u001b[0;34m(\u001b[0m\u001b[0mself\u001b[0m\u001b[0;34m,\u001b[0m \u001b[0mstatus\u001b[0m\u001b[0;34m)\u001b[0m\u001b[0;34m:\u001b[0m\u001b[0;34m\u001b[0m\u001b[0m\n",
      "\u001b[0;32m/Users/mateusz/Dropbox/EPFL/Semester II/Semester Project/ClusterTools/joblauncher/joblauncher/utils.pyc\u001b[0m in \u001b[0;36mhttp_request\u001b[0;34m(method, url, body, command, cookies)\u001b[0m\n\u001b[1;32m     94\u001b[0m         \u001b[0;32mif\u001b[0m \u001b[0mrequest\u001b[0m\u001b[0;34m.\u001b[0m\u001b[0mcontent\u001b[0m\u001b[0;34m:\u001b[0m\u001b[0;34m\u001b[0m\u001b[0m\n\u001b[1;32m     95\u001b[0m             \u001b[0;32mif\u001b[0m \u001b[0mrequest\u001b[0m\u001b[0;34m.\u001b[0m\u001b[0mstatus_code\u001b[0m \u001b[0;34m==\u001b[0m \u001b[0;36m200\u001b[0m\u001b[0;34m:\u001b[0m\u001b[0;34m\u001b[0m\u001b[0m\n\u001b[0;32m---> 96\u001b[0;31m                 \u001b[0mjs\u001b[0m \u001b[0;34m=\u001b[0m \u001b[0mrequest\u001b[0m\u001b[0;34m.\u001b[0m\u001b[0mjson\u001b[0m\u001b[0;34m(\u001b[0m\u001b[0mobject_pairs_hook\u001b[0m\u001b[0;34m=\u001b[0m\u001b[0mOrderedDict\u001b[0m\u001b[0;34m)\u001b[0m\u001b[0;34m\u001b[0m\u001b[0m\n\u001b[0m\u001b[1;32m     97\u001b[0m             \u001b[0;32melse\u001b[0m\u001b[0;34m:\u001b[0m\u001b[0;34m\u001b[0m\u001b[0m\n\u001b[1;32m     98\u001b[0m                 \u001b[0mjs\u001b[0m \u001b[0;34m=\u001b[0m \u001b[0mrequest\u001b[0m\u001b[0;34m.\u001b[0m\u001b[0mtext\u001b[0m\u001b[0;34m\u001b[0m\u001b[0m\n",
      "\u001b[0;32m/Users/mateusz/anaconda2/lib/python2.7/site-packages/requests/models.pyc\u001b[0m in \u001b[0;36mjson\u001b[0;34m(self, **kwargs)\u001b[0m\n\u001b[1;32m    824\u001b[0m                     \u001b[0;31m# used.\u001b[0m\u001b[0;34m\u001b[0m\u001b[0;34m\u001b[0m\u001b[0m\n\u001b[1;32m    825\u001b[0m                     \u001b[0;32mpass\u001b[0m\u001b[0;34m\u001b[0m\u001b[0m\n\u001b[0;32m--> 826\u001b[0;31m         \u001b[0;32mreturn\u001b[0m \u001b[0mcomplexjson\u001b[0m\u001b[0;34m.\u001b[0m\u001b[0mloads\u001b[0m\u001b[0;34m(\u001b[0m\u001b[0mself\u001b[0m\u001b[0;34m.\u001b[0m\u001b[0mtext\u001b[0m\u001b[0;34m,\u001b[0m \u001b[0;34m**\u001b[0m\u001b[0mkwargs\u001b[0m\u001b[0;34m)\u001b[0m\u001b[0;34m\u001b[0m\u001b[0m\n\u001b[0m\u001b[1;32m    827\u001b[0m \u001b[0;34m\u001b[0m\u001b[0m\n\u001b[1;32m    828\u001b[0m     \u001b[0;34m@\u001b[0m\u001b[0mproperty\u001b[0m\u001b[0;34m\u001b[0m\u001b[0m\n",
      "\u001b[0;32m/Users/mateusz/anaconda2/lib/python2.7/json/__init__.pyc\u001b[0m in \u001b[0;36mloads\u001b[0;34m(s, encoding, cls, object_hook, parse_float, parse_int, parse_constant, object_pairs_hook, **kw)\u001b[0m\n\u001b[1;32m    350\u001b[0m     \u001b[0;32mif\u001b[0m \u001b[0mparse_constant\u001b[0m \u001b[0;32mis\u001b[0m \u001b[0;32mnot\u001b[0m \u001b[0mNone\u001b[0m\u001b[0;34m:\u001b[0m\u001b[0;34m\u001b[0m\u001b[0m\n\u001b[1;32m    351\u001b[0m         \u001b[0mkw\u001b[0m\u001b[0;34m[\u001b[0m\u001b[0;34m'parse_constant'\u001b[0m\u001b[0;34m]\u001b[0m \u001b[0;34m=\u001b[0m \u001b[0mparse_constant\u001b[0m\u001b[0;34m\u001b[0m\u001b[0m\n\u001b[0;32m--> 352\u001b[0;31m     \u001b[0;32mreturn\u001b[0m \u001b[0mcls\u001b[0m\u001b[0;34m(\u001b[0m\u001b[0mencoding\u001b[0m\u001b[0;34m=\u001b[0m\u001b[0mencoding\u001b[0m\u001b[0;34m,\u001b[0m \u001b[0;34m**\u001b[0m\u001b[0mkw\u001b[0m\u001b[0;34m)\u001b[0m\u001b[0;34m.\u001b[0m\u001b[0mdecode\u001b[0m\u001b[0;34m(\u001b[0m\u001b[0ms\u001b[0m\u001b[0;34m)\u001b[0m\u001b[0;34m\u001b[0m\u001b[0m\n\u001b[0m",
      "\u001b[0;32m/Users/mateusz/anaconda2/lib/python2.7/json/decoder.pyc\u001b[0m in \u001b[0;36mdecode\u001b[0;34m(self, s, _w)\u001b[0m\n\u001b[1;32m    362\u001b[0m \u001b[0;34m\u001b[0m\u001b[0m\n\u001b[1;32m    363\u001b[0m         \"\"\"\n\u001b[0;32m--> 364\u001b[0;31m         \u001b[0mobj\u001b[0m\u001b[0;34m,\u001b[0m \u001b[0mend\u001b[0m \u001b[0;34m=\u001b[0m \u001b[0mself\u001b[0m\u001b[0;34m.\u001b[0m\u001b[0mraw_decode\u001b[0m\u001b[0;34m(\u001b[0m\u001b[0ms\u001b[0m\u001b[0;34m,\u001b[0m \u001b[0midx\u001b[0m\u001b[0;34m=\u001b[0m\u001b[0m_w\u001b[0m\u001b[0;34m(\u001b[0m\u001b[0ms\u001b[0m\u001b[0;34m,\u001b[0m \u001b[0;36m0\u001b[0m\u001b[0;34m)\u001b[0m\u001b[0;34m.\u001b[0m\u001b[0mend\u001b[0m\u001b[0;34m(\u001b[0m\u001b[0;34m)\u001b[0m\u001b[0;34m)\u001b[0m\u001b[0;34m\u001b[0m\u001b[0m\n\u001b[0m\u001b[1;32m    365\u001b[0m         \u001b[0mend\u001b[0m \u001b[0;34m=\u001b[0m \u001b[0m_w\u001b[0m\u001b[0;34m(\u001b[0m\u001b[0ms\u001b[0m\u001b[0;34m,\u001b[0m \u001b[0mend\u001b[0m\u001b[0;34m)\u001b[0m\u001b[0;34m.\u001b[0m\u001b[0mend\u001b[0m\u001b[0;34m(\u001b[0m\u001b[0;34m)\u001b[0m\u001b[0;34m\u001b[0m\u001b[0m\n\u001b[1;32m    366\u001b[0m         \u001b[0;32mif\u001b[0m \u001b[0mend\u001b[0m \u001b[0;34m!=\u001b[0m \u001b[0mlen\u001b[0m\u001b[0;34m(\u001b[0m\u001b[0ms\u001b[0m\u001b[0;34m)\u001b[0m\u001b[0;34m:\u001b[0m\u001b[0;34m\u001b[0m\u001b[0m\n",
      "\u001b[0;32m/Users/mateusz/anaconda2/lib/python2.7/json/decoder.pyc\u001b[0m in \u001b[0;36mraw_decode\u001b[0;34m(self, s, idx)\u001b[0m\n\u001b[1;32m    380\u001b[0m             \u001b[0mobj\u001b[0m\u001b[0;34m,\u001b[0m \u001b[0mend\u001b[0m \u001b[0;34m=\u001b[0m \u001b[0mself\u001b[0m\u001b[0;34m.\u001b[0m\u001b[0mscan_once\u001b[0m\u001b[0;34m(\u001b[0m\u001b[0ms\u001b[0m\u001b[0;34m,\u001b[0m \u001b[0midx\u001b[0m\u001b[0;34m)\u001b[0m\u001b[0;34m\u001b[0m\u001b[0m\n\u001b[1;32m    381\u001b[0m         \u001b[0;32mexcept\u001b[0m \u001b[0mStopIteration\u001b[0m\u001b[0;34m:\u001b[0m\u001b[0;34m\u001b[0m\u001b[0m\n\u001b[0;32m--> 382\u001b[0;31m             \u001b[0;32mraise\u001b[0m \u001b[0mValueError\u001b[0m\u001b[0;34m(\u001b[0m\u001b[0;34m\"No JSON object could be decoded\"\u001b[0m\u001b[0;34m)\u001b[0m\u001b[0;34m\u001b[0m\u001b[0m\n\u001b[0m\u001b[1;32m    383\u001b[0m         \u001b[0;32mreturn\u001b[0m \u001b[0mobj\u001b[0m\u001b[0;34m,\u001b[0m \u001b[0mend\u001b[0m\u001b[0;34m\u001b[0m\u001b[0m\n",
      "\u001b[0;31mValueError\u001b[0m: No JSON object could be decoded"
     ]
    }
   ],
   "source": [
    "server_response = joblauncher.delete_job_settings('bbic_wrapper2')"
   ]
  },
  {
   "cell_type": "markdown",
   "metadata": {},
   "source": [
    "Appart from that all core Resource Allocatior class methods are available:\n",
    "\n",
    "- joblauncher.free() #Frees remote resources\n",
    "- joblauncher.resource_url() # Return the URL of the resources' http server\n",
    "- session_create(payload) # Create a session\n",
    "- session_list() # List existing sessions\n",
    "- session_delete() # Delete a session\n",
    "- session_command(method, command, payload=None) # Execute a custom command\n",
    "- session_schedule(payload) #  Schedule a job\n",
    "- session_status() # Request for session status\n",
    "- session_log() # Request for session log\n",
    "- session_job() # Request for job information\n",
    "- config_create(payload) # Create configuration\n",
    "- config_update(payload) # Update configuration\n",
    "- config_list() # List existing configurations\n",
    "- config_delete() # Delete configuration\n",
    "- _status_check(status) # Handles the result of an executed statement\n",
    "- _obtain_registry() # Returns the registry of PUT and GET objects of the application\n",
    "- _schema(object_name) # Returns the JSON schema for the given object"
   ]
  },
  {
   "cell_type": "code",
   "execution_count": 6,
   "metadata": {
    "collapsed": false
   },
   "outputs": [
    {
     "name": "stdout",
     "output_type": "stream",
     "text": [
      "'HTTP status code: 200'\n",
      "'Contents: [OrderedDict([(u\\'id\\', u\\'\"bbic_image_converter_2\"\\'), (u\\'command_line\\', u\\'\"srun -n 1 --account proj39 bbic_stack.py /home/paluchow/out_v1.h5 --create-from /home/tresch/bigbrain600/list.txt --orientation coronal --all-stacks\"\\'), (u\\'environment_variables\\', u\\'\"USELESS_VAR=\\\\\\\\\\\\\\\\\\\\\\\\\"dummy\\\\\\\\\\\\\\\\\\\\\\\\\"\"\\'), (u\\'modules\\', u\\'\"BBP/viz/latest BBP/viz/hdf5/1.8.15 BBP/viz/python/3.4.3\"\\'), (u\\'process_rest_parameters_format\\', u\\'\"--zeroeq-http-server :${rest_port}\"\\'), (u\\'scheduler_rest_parameters_format\\', u\\'\"--zeroeq-http-server :${rest_port}\"\\'), (u\\'project\\', u\\'\"proj39\"\\'), (u\\'queue\\', u\\'\"batch\"\\'), (u\\'exclusive\\', True), (u\\'nb_nodes\\', 1), (u\\'nb_cpus\\', 1), (u\\'nb_gpus\\', 0), (u\\'graceful_exit\\', True), (u\\'wait_until_running\\', True), (u\\'name\\', u\\'bbic\\'), (u\\'description\\', u\\'img converter\\')]), OrderedDict([(u\\'id\\', u\\'bbic_image_converter\\'), (u\\'command_line\\', u\\'srun -n 1 --account proj39 bbic_stack.py out_vm.h5 --create-from /gpfs/bbp.cscs.ch/home/tresch/bigbrain600/list.txt --orientation coronal --all-stacks\\'), (u\\'environment_variables\\', u\\'USELESS_VAR=dummy\\'), (u\\'modules\\', u\\'BBP/viz/latest BBP/viz/hdf5/1.8.15 BBP/viz/python/3.4.3\\'), (u\\'process_rest_parameters_format\\', u\\'--zeroeq-http-server :${rest_port}\\'), (u\\'scheduler_rest_parameters_format\\', u\\'--zeroeq-http-server :${rest_port}\\'), (u\\'project\\', u\\'proj39\\'), (u\\'queue\\', u\\'batch\\'), (u\\'exclusive\\', False), (u\\'nb_nodes\\', 1), (u\\'nb_cpus\\', 1), (u\\'nb_gpus\\', 0), (u\\'graceful_exit\\', False), (u\\'wait_until_running\\', False), (u\\'name\\', u\\'bbic\\'), (u\\'description\\', u\\'img converter\\')]), OrderedDict([(u\\'id\\', u\\'bbic_image_converter_2\\'), (u\\'command_line\\', u\\'bbic_stack.py\\'), (u\\'environment_variables\\', u\\'\\'), (u\\'modules\\', u\\'BBP/viz/latest BBP/viz/hdf5/1.8.15 BBP/viz/python/3.4.3\\'), (u\\'process_rest_parameters_format\\', u\\'--zeroeq-http-server :${rest_port}\\'), (u\\'scheduler_rest_parameters_format\\', u\\'/gpfs/bbp.cscs.ch/project/proj39/rrm_test/out_vm.h5 --create-from /gpfs/bbp.cscs.ch/home/tresch/bigbrain600/list.txt --orientation coronal --all-stacks\\'), (u\\'project\\', u\\'proj39\\'), (u\\'queue\\', u\\'test\\'), (u\\'exclusive\\', False), (u\\'nb_nodes\\', 1), (u\\'nb_cpus\\', 1), (u\\'nb_gpus\\', 0), (u\\'graceful_exit\\', False), (u\\'wait_until_running\\', False), (u\\'name\\', u\\'bbic\\'), (u\\'description\\', u\\'img converter\\')]), OrderedDict([(u\\'id\\', u\\'brayns\\'), (u\\'command_line\\', u\\'braynsService\\'), (u\\'environment_variables\\', u\\'\\'), (u\\'modules\\', u\\'BBP/viz/latest\\'), (u\\'process_rest_parameters_format\\', u\\'--zeroeq-http-server :${rest_port}\\'), (u\\'scheduler_rest_parameters_format\\', u\\'--zeroeq-http-server :${rest_port}\\'), (u\\'project\\', u\\'proj3\\'), (u\\'queue\\', u\\'interactive\\'), (u\\'exclusive\\', True), (u\\'nb_nodes\\', 1), (u\\'nb_cpus\\', 16), (u\\'nb_gpus\\', 1), (u\\'graceful_exit\\', True), (u\\'wait_until_running\\', True), (u\\'name\\', u\\'Brayns\\'), (u\\'description\\', u\\'Large scale Interactive Ray-Tracer\\')]), OrderedDict([(u\\'id\\', u\\'demo_brayns_01\\'), (u\\'command_line\\', u\\'braynsService\\'), (u\\'environment_variables\\', u\\'DEFLECT_ID=Brayns\\'), (u\\'modules\\', u\\'BBP/viz/latest\\'), (u\\'process_rest_parameters_format\\', u\\'\\'), (u\\'scheduler_rest_parameters_format\\', u\\'--load-cache-file /gpfs/bbp.cscs.ch/project/proj3/resources/scenes/Column --sun-on-camera 1 --ambient-occlusion 1 --material noshading --window-size 1500 3000 --jpeg-compression 50 --zeroeq-http-server :${rest_port}\\'), (u\\'project\\', u\\'proj3\\'), (u\\'queue\\', u\\'interactive\\'), (u\\'exclusive\\', True), (u\\'nb_nodes\\', 1), (u\\'nb_cpus\\', 16), (u\\'nb_gpus\\', 0), (u\\'graceful_exit\\', True), (u\\'wait_until_running\\', True), (u\\'name\\', u\\'Mini-Column\\'), (u\\'description\\', u\\'Mini-column made of 50 neurons\\')]), OrderedDict([(u\\'id\\', u\\'demo_livre_01\\'), (u\\'command_line\\', u\\'livre\\'), (u\\'environment_variables\\', u\\'EQ_WINDOW_IATTR_HINT_WIDTH=1920 EQ_WINDOW_IATTR_HINT_HEIGHT=1080 DEFLECT_ID=Livre\\'), (u\\'modules\\', u\\'BBP/viz/latest\\'), (u\\'process_rest_parameters_format\\', u\\'\\'), (u\\'scheduler_rest_parameters_format\\', u\\'--volume bbic:///gpfs/bbp.cscs.ch/project/proj3/resources/volumes/bbic/rat.h5 --synchronous --sse 1 --min-lod 3 --transfer-function /gpfs/bbp.cscs.ch/project/proj3/resources/volumes/bbic/demo-tf.1dt --zeroeq-http-server :${rest_port}\\'), (u\\'project\\', u\\'proj3\\'), (u\\'queue\\', u\\'interactive\\'), (u\\'exclusive\\', True), (u\\'nb_nodes\\', 1), (u\\'nb_cpus\\', 16), (u\\'nb_gpus\\', 1), (u\\'graceful_exit\\', True), (u\\'wait_until_running\\', True), (u\\'name\\', u\\'Rat brain\\'), (u\\'description\\', u\\'Rat brain volume\\')]), OrderedDict([(u\\'id\\', u\\'demo_rtneuron_01\\'), (u\\'command_line\\', u\\'rtneuron-app.py\\'), (u\\'environment_variables\\', u\\'DEFLECT_ID=ISC-RTNeuron\\'), (u\\'modules\\', u\\'BBP/viz/latest BBP/viz/neuroscheme\\'), (u\\'process_rest_parameters_format\\', u\\'\\'), (u\\'scheduler_rest_parameters_format\\', u\\'-b /gpfs/bbp.cscs.ch/project/proj3/simulations/vizCa2p0_1x7/BlueConfig --target Slice soma -r soma --no-morphologies --alpha-blending --slices 4 --background 0.4 0.4 0.4 --eq-layout Simple --window 1920 1080\\'), (u\\'project\\', u\\'proj3\\'), (u\\'queue\\', u\\'interactive\\'), (u\\'exclusive\\', True), (u\\'nb_nodes\\', 1), (u\\'nb_cpus\\', 16), (u\\'nb_gpus\\', 1), (u\\'graceful_exit\\', True), (u\\'wait_until_running\\', False), (u\\'name\\', u\\'Epilectic Slice\\'), (u\\'description\\', u\\'Epilectic Slice\\')]), OrderedDict([(u\\'id\\', u\\'ipythonnotebook\\'), (u\\'command_line\\', u\\'ipython\\'), (u\\'environment_variables\\', u\\'\\'), (u\\'modules\\', u\\'BBP/viz/latest\\'), (u\\'process_rest_parameters_format\\', u\\'notebook --no-browser --ip= --port=${rest_port}\\'), (u\\'scheduler_rest_parameters_format\\', u\\'notebook --no-browser --ip= --port=${rest_port}\\'), (u\\'project\\', u\\'proj3\\'), (u\\'queue\\', u\\'interactive\\'), (u\\'exclusive\\', True), (u\\'nb_nodes\\', 1), (u\\'nb_cpus\\', 16), (u\\'nb_gpus\\', 1), (u\\'graceful_exit\\', True), (u\\'wait_until_running\\', False), (u\\'name\\', u\\'RTNeuron notebook\\'), (u\\'description\\', u\\'RTNeuron notebook\\')]), OrderedDict([(u\\'id\\', u\\'livre\\'), (u\\'command_line\\', u\\'livre\\'), (u\\'environment_variables\\', u\\'\\'), (u\\'modules\\', u\\'BBP/viz/latest\\'), (u\\'process_rest_parameters_format\\', u\\'--zeroeq-http-server :${rest_port}\\'), (u\\'scheduler_rest_parameters_format\\', u\\'--zeroeq-http-server :${rest_port}\\'), (u\\'project\\', u\\'proj3\\'), (u\\'queue\\', u\\'interactive\\'), (u\\'exclusive\\', True), (u\\'nb_nodes\\', 1), (u\\'nb_cpus\\', 16), (u\\'nb_gpus\\', 1), (u\\'graceful_exit\\', True), (u\\'wait_until_running\\', True), (u\\'name\\', u\\'Livre\\'), (u\\'description\\', u\\'Large scale Interactive Volumen REnderer\\')]), OrderedDict([(u\\'id\\', u\\'rtneuron\\'), (u\\'command_line\\', u\\'rtneuron-app.py\\'), (u\\'environment_variables\\', u\\'\\'), (u\\'modules\\', u\\'BBP/viz/latest\\'), (u\\'process_rest_parameters_format\\', u\\'--zeroeq-http-server :${rest_port}\\'), (u\\'scheduler_rest_parameters_format\\', u\\'--zeroeq-http-server :${rest_port}\\'), (u\\'project\\', u\\'proj3\\'), (u\\'queue\\', u\\'interactive\\'), (u\\'exclusive\\', True), (u\\'nb_nodes\\', 1), (u\\'nb_cpus\\', 16), (u\\'nb_gpus\\', 1), (u\\'graceful_exit\\', True), (u\\'wait_until_running\\', True), (u\\'name\\', u\\'RTNeuron\\'), (u\\'description\\', u\\'Scalable real-time rendering tool for the visualization of neuronal simulations based on cable models\\')]), OrderedDict([(u\\'id\\', u\\'rtneuron_notebook\\'), (u\\'command_line\\', u\\'~/.vnc/rtneuron_notebook\\'), (u\\'environment_variables\\', u\\'\\'), (u\\'modules\\', u\\'\\'), (u\\'process_rest_parameters_format\\', u\\'notebook --no-browser --ip= --port=${rest_port}\\'), (u\\'scheduler_rest_parameters_format\\', u\\'notebook --no-browser --ip= --port=${rest_port}\\'), (u\\'project\\', u\\'proj3\\'), (u\\'queue\\', u\\'interactive\\'), (u\\'exclusive\\', True), (u\\'nb_nodes\\', 1), (u\\'nb_cpus\\', 16), (u\\'nb_gpus\\', 1), (u\\'graceful_exit\\', True), (u\\'wait_until_running\\', False), (u\\'name\\', u\\'RTNeuron notebook\\'), (u\\'description\\', u\\'IPython Notebook for RTNeuron\\')]), OrderedDict([(u\\'id\\', u\\'vnc-brayns\\'), (u\\'command_line\\', u\\'~/.vnc/brayns\\'), (u\\'environment_variables\\', u\\'\\'), (u\\'modules\\', u\\'\\'), (u\\'process_rest_parameters_format\\', u\\'--zeroeq-http-server :${rest_port}\\'), (u\\'scheduler_rest_parameters_format\\', u\\'--zeroeq-http-server :${rest_port}\\'), (u\\'project\\', u\\'proj3\\'), (u\\'queue\\', u\\'interactive\\'), (u\\'exclusive\\', True), (u\\'nb_nodes\\', 1), (u\\'nb_cpus\\', 16), (u\\'nb_gpus\\', 1), (u\\'graceful_exit\\', True), (u\\'wait_until_running\\', True), (u\\'name\\', u\\'Brayns for VNC\\'), (u\\'description\\', u\\'A VNC connection to Brayns\\')]), OrderedDict([(u\\'id\\', u\\'wrapper\\'), (u\\'command_line\\', u\\'pip install flask --user; python /gpfs/bbp.cscs.ch/apps/viz/bbp/dev/wrapper/wrapper.py\\'), (u\\'environment_variables\\', u\\'\\'), (u\\'modules\\', u\\'BBP/viz/latest BBP/viz/hdf5/1.8.15 BBP/viz/python/3.4.3\\'), (u\\'process_rest_parameters_format\\', u\\'--zeroeq-http-server :${rest_port}\\'), (u\\'scheduler_rest_parameters_format\\', u\\'--script-command \"bbic_stack.py /gpfs/bbp.cscs.ch/project/proj39/rrm_test/out_vm.h5 --create-from /gpfs/bbp.cscs.ch/home/tresch/bigbrain600/list.txt --orientation coronal --all-stacks\"\\'), (u\\'project\\', u\\'proj39\\'), (u\\'queue\\', u\\'test\\'), (u\\'exclusive\\', False), (u\\'nb_nodes\\', 1), (u\\'nb_cpus\\', 1), (u\\'nb_gpus\\', 0), (u\\'graceful_exit\\', False), (u\\'wait_until_running\\', False), (u\\'name\\', u\\'bbic\\'), (u\\'description\\', u\\'python wrapper for bbic\\')])]'\n",
      "'Cookies:<RequestsCookieJar[]>'\n"
     ]
    }
   ],
   "source": [
    "joblauncher.config_list().show_resoponse()"
   ]
  }
 ],
 "metadata": {
  "kernelspec": {
   "display_name": "Python 2",
   "language": "python",
   "name": "python2"
  },
  "language_info": {
   "codemirror_mode": {
    "name": "ipython",
    "version": 2
   },
   "file_extension": ".py",
   "mimetype": "text/x-python",
   "name": "python",
   "nbconvert_exporter": "python",
   "pygments_lexer": "ipython2",
   "version": "2.7.13"
  }
 },
 "nbformat": 4,
 "nbformat_minor": 0
}
