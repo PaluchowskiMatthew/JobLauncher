{
 "cells": [
  {
   "cell_type": "markdown",
   "metadata": {},
   "source": [
    "# Overview of methods available in joblauncher package"
   ]
  },
  {
   "cell_type": "code",
   "execution_count": 1,
   "metadata": {
    "collapsed": false,
    "scrolled": true
   },
   "outputs": [],
   "source": [
    "import joblauncher"
   ]
  },
  {
   "cell_type": "markdown",
   "metadata": {},
   "source": [
    "### Initialize joblauncher with default settings."
   ]
  },
  {
   "cell_type": "code",
   "execution_count": 2,
   "metadata": {
    "collapsed": false
   },
   "outputs": [],
   "source": [
    "joblauncher = joblauncher.JobLauncher()"
   ]
  },
  {
   "cell_type": "code",
   "execution_count": null,
   "metadata": {
    "collapsed": false
   },
   "outputs": [],
   "source": [
    "joblauncher.schedule_and_launch_job('bbic_wrapper')"
   ]
  },
  {
   "cell_type": "markdown",
   "metadata": {},
   "source": [
    "### Get allocation settings"
   ]
  },
  {
   "cell_type": "code",
   "execution_count": 3,
   "metadata": {
    "collapsed": false,
    "scrolled": true
   },
   "outputs": [
    {
     "data": {
      "text/plain": [
       "{'_allocation_time': '1:00:00',\n",
       " '_cookies': None,\n",
       " '_exclusive_allocation': False,\n",
       " '_nb_cpus': 1,\n",
       " '_nb_gpus': 0,\n",
       " '_nb_nodes': 1,\n",
       " '_renderer': 'bbic_wrapper',\n",
       " '_reservation': '',\n",
       " '_resource_url': None,\n",
       " '_url_config': 'http://bbpcd013.bbp.epfl.ch/nip/rendering-resource-manager/v1/config/',\n",
       " '_url_service': 'http://bbpcd013.bbp.epfl.ch/nip/rendering-resource-manager/v1',\n",
       " '_url_session': 'http://bbpcd013.bbp.epfl.ch/nip/rendering-resource-manager/v1/session/',\n",
       " 'launched_job_url': None}"
      ]
     },
     "execution_count": 3,
     "metadata": {},
     "output_type": "execute_result"
    }
   ],
   "source": [
    "allocation_settings = joblauncher.get_allocation_settings()\n",
    "allocation_settings"
   ]
  },
  {
   "cell_type": "markdown",
   "metadata": {},
   "source": [
    "### Edit allocation settings"
   ]
  },
  {
   "cell_type": "code",
   "execution_count": null,
   "metadata": {
    "collapsed": false
   },
   "outputs": [],
   "source": [
    "allocation_settings = joblauncher.edit_allocation_settings(_nb_cpus=2, _some_undefined_param=\"test\")\n",
    "allocation_settings"
   ]
  },
  {
   "cell_type": "markdown",
   "metadata": {},
   "source": [
    "### Get job (renderer) settings."
   ]
  },
  {
   "cell_type": "code",
   "execution_count": 4,
   "metadata": {
    "collapsed": false
   },
   "outputs": [
    {
     "data": {
      "text/plain": [
       "{u'command_line': u'pip3 install flask --user; python3 /gpfs/bbp.cscs.ch/apps/viz/bbp/dev/Wrapper/wrapper.py',\n",
       " u'description': u'wrapper for bbic',\n",
       " u'environment_variables': u'',\n",
       " u'exclusive': False,\n",
       " u'graceful_exit': False,\n",
       " u'id': u'bbic_wrapper',\n",
       " u'modules': u'BBP/viz/latest BBP/viz/hdf5/1.8.15 BBP/viz/python/3.4.3',\n",
       " u'name': u'bbic',\n",
       " u'nb_cpus': 1,\n",
       " u'nb_gpus': 0,\n",
       " u'nb_nodes': 1,\n",
       " u'process_rest_parameters_format': u'',\n",
       " u'project': u'proj39',\n",
       " u'queue': u'interactive',\n",
       " u'scheduler_rest_parameters_format': u'--script-command \"python3 -u /gpfs/bbp.cscs.ch/apps/viz/bbp/dev/wrapper/bbic_stack.py /gpfs/bbp.cscs.ch/project/proj39/rrm_test/out_vm.h5 --create-from /gpfs/bbp.cscs.ch/home/tresch/bigbrain600/list.txt --orientation coronal --all-stacks\" --host \"${rest_hostname}\" --port \"${rest_port}\"',\n",
       " u'wait_until_running': False}"
      ]
     },
     "execution_count": 4,
     "metadata": {},
     "output_type": "execute_result"
    }
   ],
   "source": [
    "renderer_settings = joblauncher.get_job_settings('bbic_wrapper')\n",
    "renderer_settings"
   ]
  },
  {
   "cell_type": "code",
   "execution_count": null,
   "metadata": {
    "collapsed": false
   },
   "outputs": [],
   "source": [
    "renderer_settings = joblauncher.edit_job_settings('bbic_wrapper',\n",
    "                                                 scheduler_rest_parameters_format='--script-command \"python3 -u /gpfs/bbp.cscs.ch/apps/viz/bbp/dev/wrapper/bbic_stack.py /gpfs/bbp.cscs.ch/project/proj39/rrm_test/out_vm.h5 --create-from /gpfs/bbp.cscs.ch/home/tresch/bigbrain600/list.txt --orientation coronal --all-stacks\" --host \"${rest_hostname}\" --port \"${rest_port}\"')\n",
    "renderer_settings"
   ]
  },
  {
   "cell_type": "code",
   "execution_count": null,
   "metadata": {
    "collapsed": false
   },
   "outputs": [],
   "source": [
    "renderer_settings.show_response()"
   ]
  },
  {
   "cell_type": "markdown",
   "metadata": {},
   "source": [
    "### Create job renderer\n",
    "Creates new renderer (if it doeasnt already exist) basing either on settings provided or default renderer if settings parameter is not provided"
   ]
  },
  {
   "cell_type": "code",
   "execution_count": null,
   "metadata": {
    "collapsed": false
   },
   "outputs": [],
   "source": [
    "server_response = joblauncher.create_job_renderer() #Default"
   ]
  },
  {
   "cell_type": "code",
   "execution_count": null,
   "metadata": {
    "collapsed": false
   },
   "outputs": [],
   "source": [
    "server_response.show_response()"
   ]
  },
  {
   "cell_type": "markdown",
   "metadata": {},
   "source": [
    "Create a custom renderer basing on the settings provided."
   ]
  },
  {
   "cell_type": "code",
   "execution_count": null,
   "metadata": {
    "collapsed": true
   },
   "outputs": [],
   "source": [
    "custom_renderer_payload = {\n",
    "            \"id\": \"bbic_wrapper2\",\n",
    "            \"command_line\": \"pip install flask --user; python /gpfs/bbp.cscs.ch/apps/viz/bbp/dev/wrapper/wrapper.py\",\n",
    "            \"environment_variables\": \"\",\n",
    "            \"modules\": \"BBP/viz/latest BBP/viz/hdf5/1.8.15 BBP/viz/python/3.4.3\",\n",
    "            \"process_rest_parameters_format\": \"\",\n",
    "            \"scheduler_rest_parameters_format\": '--script-command \"bbic_stack.py /gpfs/bbp.cscs.ch/project/proj39/rrm_test/out_vm.h5 --create-from /gpfs/bbp.cscs.ch/home/tresch/bigbrain600/list.txt --orientation coronal --all-stacks\" --host \"${rest_hostname}\" --port \"${rest_port}\"',\n",
    "            \"project\": \"proj39\",\n",
    "            \"queue\": \"test\",\n",
    "            \"exclusive\": False,\n",
    "            \"nb_nodes\": 1,\n",
    "            \"nb_cpus\": 1,\n",
    "            \"nb_gpus\": 0,\n",
    "            \"graceful_exit\": False,\n",
    "            \"wait_until_running\": False,\n",
    "            \"name\": \"bbic\",\n",
    "            \"description\": \"wrapper for bbic\"\n",
    "        }"
   ]
  },
  {
   "cell_type": "code",
   "execution_count": null,
   "metadata": {
    "collapsed": false
   },
   "outputs": [],
   "source": [
    "server_response = joblauncher.create_job_renderer(payload=custom_renderer_payload)"
   ]
  },
  {
   "cell_type": "code",
   "execution_count": null,
   "metadata": {
    "collapsed": false
   },
   "outputs": [],
   "source": [
    "server_response.show_response()"
   ]
  },
  {
   "cell_type": "markdown",
   "metadata": {},
   "source": [
    "### Get job settings"
   ]
  },
  {
   "cell_type": "code",
   "execution_count": null,
   "metadata": {
    "collapsed": false
   },
   "outputs": [],
   "source": [
    "payload = {\"id\": \"session_bbic_image_converter\",\"renderer_id\": 'bbic_wrapper2', \"owner\": \"joblauncher\"}\n",
    "status = joblauncher.session_create(payload)\n",
    "if status.code != 201:\n",
    "    raise Exception(status.contents)\n",
    "joblauncher._cookies = status.cookies"
   ]
  },
  {
   "cell_type": "code",
   "execution_count": null,
   "metadata": {
    "collapsed": false
   },
   "outputs": [],
   "source": [
    "status.show_response()"
   ]
  },
  {
   "cell_type": "code",
   "execution_count": null,
   "metadata": {
    "collapsed": false
   },
   "outputs": [],
   "source": [
    "# TODO Get the json info from visualizer\n",
    "payload = {\n",
    "    \"params\": \"\",\n",
    "    \"environment\": \"\"\n",
    "}\n",
    "status = joblauncher.session_schedule(payload)"
   ]
  },
  {
   "cell_type": "code",
   "execution_count": null,
   "metadata": {
    "collapsed": false
   },
   "outputs": [],
   "source": [
    "status.show_response()"
   ]
  },
  {
   "cell_type": "code",
   "execution_count": null,
   "metadata": {
    "collapsed": true
   },
   "outputs": [],
   "source": [
    "joblauncher.joblauncher()"
   ]
  },
  {
   "cell_type": "code",
   "execution_count": null,
   "metadata": {
    "collapsed": false
   },
   "outputs": [],
   "source": [
    "joblauncher.get_job_settings('bbic_wrapper2')"
   ]
  },
  {
   "cell_type": "markdown",
   "metadata": {},
   "source": [
    "###  Edit job settings"
   ]
  },
  {
   "cell_type": "code",
   "execution_count": null,
   "metadata": {
    "collapsed": true
   },
   "outputs": [],
   "source": [
    "server_response = joblauncher.edit_job_settings('bbic_wrapper2', nb_cpus=2)"
   ]
  },
  {
   "cell_type": "code",
   "execution_count": null,
   "metadata": {
    "collapsed": false
   },
   "outputs": [],
   "source": [
    "server_response.show_response()"
   ]
  },
  {
   "cell_type": "markdown",
   "metadata": {},
   "source": [
    "### Delete job settings\n"
   ]
  },
  {
   "cell_type": "code",
   "execution_count": null,
   "metadata": {
    "collapsed": false
   },
   "outputs": [],
   "source": [
    "server_response = joblauncher.delete_job_settings('bbic_wrapper2')"
   ]
  },
  {
   "cell_type": "markdown",
   "metadata": {},
   "source": [
    "Appart from that all core Resource Allocator class methods are available:\n",
    "\n",
    "- free() #Frees remote resources\n",
    "- resource_url() # Return the URL of the resources' http server\n",
    "- session_create(payload) # Create a session\n",
    "- session_list() # List existing sessions\n",
    "- session_delete() # Delete a session\n",
    "- session_command(method, command, payload=None) # Execute a custom command\n",
    "- session_schedule(payload) #  Schedule a job\n",
    "- session_status() # Request for session status\n",
    "- session_log() # Request for session log\n",
    "- session_job() # Request for job information\n",
    "- config_create(payload) # Create configuration\n",
    "- config_update(payload) # Update configuration\n",
    "- config_list() # List existing configurations\n",
    "- config_delete() # Delete configuration\n",
    "- _status_check(status) # Handles the result of an executed statement\n",
    "- _obtain_registry() # Returns the registry of PUT and GET objects of the application\n",
    "- _schema(object_name) # Returns the JSON schema for the given object"
   ]
  },
  {
   "cell_type": "code",
   "execution_count": null,
   "metadata": {
    "collapsed": false
   },
   "outputs": [],
   "source": [
    "joblauncher.config_list().show_response()"
   ]
  },
  {
   "cell_type": "code",
   "execution_count": null,
   "metadata": {
    "collapsed": false
   },
   "outputs": [],
   "source": [
    "server_response = joblauncher.delete_job_settings('bbic_wrapper_delete')"
   ]
  },
  {
   "cell_type": "code",
   "execution_count": null,
   "metadata": {
    "collapsed": false
   },
   "outputs": [],
   "source": [
    "server_response.show_response()"
   ]
  },
  {
   "cell_type": "code",
   "execution_count": null,
   "metadata": {
    "collapsed": false
   },
   "outputs": [],
   "source": [
    "joblauncher.config_delete({\"renderer_id\": 'bbic_wrapper_delete'})"
   ]
  },
  {
   "cell_type": "code",
   "execution_count": null,
   "metadata": {
    "collapsed": true
   },
   "outputs": [],
   "source": [
    ""
   ]
  }
 ],
 "metadata": {
  "kernelspec": {
   "display_name": "Python 2",
   "language": "python",
   "name": "python2"
  },
  "language_info": {
   "codemirror_mode": {
    "name": "ipython",
    "version": 2.0
   },
   "file_extension": ".py",
   "mimetype": "text/x-python",
   "name": "python",
   "nbconvert_exporter": "python",
   "pygments_lexer": "ipython2",
   "version": "2.7.13"
  }
 },
 "nbformat": 4,
 "nbformat_minor": 0
}