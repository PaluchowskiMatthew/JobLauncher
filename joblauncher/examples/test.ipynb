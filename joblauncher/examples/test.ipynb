{
 "cells": [
  {
   "cell_type": "code",
   "execution_count": 1,
   "metadata": {
    "collapsed": false
   },
   "outputs": [],
   "source": [
    "import joblauncher"
   ]
  },
  {
   "cell_type": "code",
   "execution_count": 2,
   "metadata": {
    "collapsed": true
   },
   "outputs": [],
   "source": [
    "resource = joblauncher.initResource()"
   ]
  },
  {
   "cell_type": "code",
   "execution_count": 3,
   "metadata": {
    "collapsed": false
   },
   "outputs": [
    {
     "data": {
      "text/plain": [
       "'1:00:00'"
      ]
     },
     "execution_count": 3,
     "metadata": {},
     "output_type": "execute_result"
    }
   ],
   "source": [
    "resource._allocation_time"
   ]
  },
  {
   "cell_type": "code",
   "execution_count": 4,
   "metadata": {
    "collapsed": false
   },
   "outputs": [
    {
     "data": {
      "text/plain": [
       "'http://bbpcd013.bbp.epfl.ch/nip/rendering-resource-manager/v1'"
      ]
     },
     "execution_count": 4,
     "metadata": {},
     "output_type": "execute_result"
    }
   ],
   "source": [
    "resource._url_service"
   ]
  },
  {
   "cell_type": "code",
   "execution_count": 5,
   "metadata": {
    "collapsed": false
   },
   "outputs": [
    {
     "data": {
      "text/plain": [
       "'http://bbpcd013.bbp.epfl.ch/nip/rendering-resource-manager/v1/config/'"
      ]
     },
     "execution_count": 5,
     "metadata": {},
     "output_type": "execute_result"
    }
   ],
   "source": [
    "resource._url_config"
   ]
  },
  {
   "cell_type": "code",
   "execution_count": 17,
   "metadata": {
    "collapsed": false
   },
   "outputs": [
    {
     "data": {
      "text/plain": [
       "'http://bbpcd013.bbp.epfl.ch/nip/rendering-resource-manager/v1/session/'"
      ]
     },
     "execution_count": 17,
     "metadata": {},
     "output_type": "execute_result"
    }
   ],
   "source": [
    "resource.resource_url()"
   ]
  },
  {
   "cell_type": "code",
   "execution_count": 18,
   "metadata": {
    "collapsed": true
   },
   "outputs": [],
   "source": [
    "resp = resource.session_status()"
   ]
  },
  {
   "cell_type": "code",
   "execution_count": 19,
   "metadata": {
    "collapsed": false
   },
   "outputs": [
    {
     "data": {
      "text/plain": [
       "OrderedDict([(u'code', 5),\n",
       "             (u'session', u'8b903baa-2f4a-11e7-9953-fa163e36ca47'),\n",
       "             (u'description', u'bbic_image_converter_2 is up and running'),\n",
       "             (u'hostname', u'bbplxviz13.epfl.ch'),\n",
       "             (u'port', u'3561')])"
      ]
     },
     "execution_count": 19,
     "metadata": {},
     "output_type": "execute_result"
    }
   ],
   "source": [
    "resp.contents"
   ]
  },
  {
   "cell_type": "code",
   "execution_count": 20,
   "metadata": {
    "collapsed": true
   },
   "outputs": [],
   "source": [
    "payload = {\n",
    "\"id\": \"bbic_image_converter_2\",\n",
    "\"renderer_id\": \"bbic_image_converter_2\",\n",
    "\"owner\": \"paluchow\"\n",
    "}"
   ]
  },
  {
   "cell_type": "code",
   "execution_count": 21,
   "metadata": {
    "collapsed": false,
    "scrolled": true
   },
   "outputs": [
    {
     "ename": "Exception",
     "evalue": "{\"contents\": \"Traceback (most recent call last):\\n  File \\\"/opt/virtualenv/lib/python2.6/site-packages/rendering_resource_manager_service/session/views.py\\\", line 249, in execute\\n    response = cls.__schedule_job(session, request)\\n  File \\\"/opt/virtualenv/lib/python2.6/site-packages/rendering_resource_manager_service/session/views.py\\\", line 309, in __schedule_job\\n    status = job_manager.globalJobManager.schedule(session, job_information)\\n  File \\\"/opt/virtualenv/lib/python2.6/site-packages/rendering_resource_manager_service/session/management/job_manager.py\\\", line 97, in schedule\\n    status = self.start(session, job_information)\\n  File \\\"/opt/virtualenv/lib/python2.6/site-packages/rendering_resource_manager_service/session/management/job_manager.py\\\", line 178, in start\\n    values += job_information.environment.split()\\nAttributeError: 'NoneType' object has no attribute 'split'\\n\"}",
     "traceback": [
      "\u001b[0;31m---------------------------------------------------------------------------\u001b[0m",
      "\u001b[0;31mException\u001b[0m                                 Traceback (most recent call last)",
      "\u001b[0;32m<ipython-input-21-c91d95eb4b9b>\u001b[0m in \u001b[0;36m<module>\u001b[0;34m()\u001b[0m\n\u001b[0;32m----> 1\u001b[0;31m \u001b[0mresp\u001b[0m \u001b[0;34m=\u001b[0m \u001b[0mresource\u001b[0m\u001b[0;34m.\u001b[0m\u001b[0msession_schedule\u001b[0m\u001b[0;34m(\u001b[0m\u001b[0mpayload\u001b[0m\u001b[0;34m=\u001b[0m\u001b[0mpayload\u001b[0m\u001b[0;34m)\u001b[0m\u001b[0;34m\u001b[0m\u001b[0m\n\u001b[0m",
      "\u001b[0;32m/Users/mateusz/Dropbox/EPFL/Semester II/Semester Project/joblauncher/joblauncher/resource_allocator.pyc\u001b[0m in \u001b[0;36msession_schedule\u001b[0;34m(self, payload)\u001b[0m\n\u001b[1;32m    171\u001b[0m         \"\"\"\n\u001b[1;32m    172\u001b[0m         return self._status_check(http_request(\n\u001b[0;32m--> 173\u001b[0;31m             HTTP_METHOD_PUT, self._url_session, payload, 'schedule', self._cookies))\n\u001b[0m\u001b[1;32m    174\u001b[0m \u001b[0;34m\u001b[0m\u001b[0m\n\u001b[1;32m    175\u001b[0m     \u001b[0;32mdef\u001b[0m \u001b[0msession_status\u001b[0m\u001b[0;34m(\u001b[0m\u001b[0mself\u001b[0m\u001b[0;34m)\u001b[0m\u001b[0;34m:\u001b[0m\u001b[0;34m\u001b[0m\u001b[0m\n",
      "\u001b[0;32m/Users/mateusz/Dropbox/EPFL/Semester II/Semester Project/joblauncher/joblauncher/resource_allocator.pyc\u001b[0m in \u001b[0;36m_status_check\u001b[0;34m(self, status)\u001b[0m\n\u001b[1;32m    243\u001b[0m                 \u001b[0;31m# be destroyed\u001b[0m\u001b[0;34m\u001b[0m\u001b[0;34m\u001b[0m\u001b[0m\n\u001b[1;32m    244\u001b[0m                 \u001b[0mself\u001b[0m\u001b[0;34m.\u001b[0m\u001b[0msession_delete\u001b[0m\u001b[0;34m(\u001b[0m\u001b[0;34m)\u001b[0m\u001b[0;34m\u001b[0m\u001b[0m\n\u001b[0;32m--> 245\u001b[0;31m                 \u001b[0;32mraise\u001b[0m \u001b[0mException\u001b[0m\u001b[0;34m(\u001b[0m\u001b[0mstatus\u001b[0m\u001b[0;34m.\u001b[0m\u001b[0mcontents\u001b[0m\u001b[0;34m)\u001b[0m\u001b[0;34m\u001b[0m\u001b[0m\n\u001b[0m\u001b[1;32m    246\u001b[0m         \u001b[0;32mreturn\u001b[0m \u001b[0mstatus\u001b[0m\u001b[0;34m\u001b[0m\u001b[0m\n",
      "\u001b[0;31mException\u001b[0m: {\"contents\": \"Traceback (most recent call last):\\n  File \\\"/opt/virtualenv/lib/python2.6/site-packages/rendering_resource_manager_service/session/views.py\\\", line 249, in execute\\n    response = cls.__schedule_job(session, request)\\n  File \\\"/opt/virtualenv/lib/python2.6/site-packages/rendering_resource_manager_service/session/views.py\\\", line 309, in __schedule_job\\n    status = job_manager.globalJobManager.schedule(session, job_information)\\n  File \\\"/opt/virtualenv/lib/python2.6/site-packages/rendering_resource_manager_service/session/management/job_manager.py\\\", line 97, in schedule\\n    status = self.start(session, job_information)\\n  File \\\"/opt/virtualenv/lib/python2.6/site-packages/rendering_resource_manager_service/session/management/job_manager.py\\\", line 178, in start\\n    values += job_information.environment.split()\\nAttributeError: 'NoneType' object has no attribute 'split'\\n\"}"
     ],
     "output_type": "error"
    }
   ],
   "source": [
    "resp = resource.session_schedule(payload=payload)"
   ]
  },
  {
   "cell_type": "code",
   "execution_count": null,
   "metadata": {
    "collapsed": false
   },
   "outputs": [],
   "source": [
    "resp.contents"
   ]
  },
  {
   "cell_type": "code",
   "execution_count": null,
   "metadata": {
    "collapsed": true
   },
   "outputs": [],
   "source": [
    ""
   ]
  }
 ],
 "metadata": {
  "kernelspec": {
   "display_name": "Python 2",
   "language": "python",
   "name": "python2"
  },
  "language_info": {
   "codemirror_mode": {
    "name": "ipython",
    "version": 2.0
   },
   "file_extension": ".py",
   "mimetype": "text/x-python",
   "name": "python",
   "nbconvert_exporter": "python",
   "pygments_lexer": "ipython2",
   "version": "2.7.13"
  }
 },
 "nbformat": 4,
 "nbformat_minor": 0
}