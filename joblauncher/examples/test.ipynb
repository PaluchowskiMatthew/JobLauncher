{
 "cells": [
  {
   "cell_type": "code",
   "execution_count": 1,
   "metadata": {
    "collapsed": false,
    "scrolled": true
   },
   "outputs": [],
   "source": [
    "import joblauncher"
   ]
  },
  {
   "cell_type": "code",
   "execution_count": 2,
   "metadata": {
    "collapsed": false
   },
   "outputs": [],
   "source": [
    "joblauncher = joblauncher.JobLauncher()"
   ]
  },
  {
   "cell_type": "code",
   "execution_count": 3,
   "metadata": {
    "collapsed": false,
    "scrolled": true
   },
   "outputs": [
    {
     "name": "stdout",
     "output_type": "stream",
     "text": [
      "{'_allocation_time': '1:00:00',\n",
      " '_cookies': None,\n",
      " '_exclusive_allocation': False,\n",
      " '_nb_cpus': 1,\n",
      " '_nb_gpus': 0,\n",
      " '_nb_nodes': 1,\n",
      " '_renderer': 'bbic_image_converter_2',\n",
      " '_reservation': '',\n",
      " '_resource_url': None,\n",
      " '_url_config': 'http://bbpcd013.bbp.epfl.ch/nip/rendering-resource-manager/v1/config/',\n",
      " '_url_service': 'http://bbpcd013.bbp.epfl.ch/nip/rendering-resource-manager/v1',\n",
      " '_url_session': 'http://bbpcd013.bbp.epfl.ch/nip/rendering-resource-manager/v1/session/'}\n"
     ]
    }
   ],
   "source": [
    "joblauncher.show_allocation_settings()"
   ]
  },
  {
   "cell_type": "code",
   "execution_count": 4,
   "metadata": {
    "collapsed": false
   },
   "outputs": [
    {
     "name": "stdout",
     "output_type": "stream",
     "text": [
      "Attribute _nosuchthing not found in ResourceAllocator. Skipping.\n"
     ]
    }
   ],
   "source": [
    "joblauncher.edit_allocation_settings(_nb_nodes=2, _nosuchthing='as love')"
   ]
  },
  {
   "cell_type": "markdown",
   "metadata": {},
   "source": [
    "# TODO\n",
    "FIX cookie handling such that session_list and session create works"
   ]
  },
  {
   "cell_type": "code",
   "execution_count": 9,
   "metadata": {
    "collapsed": false
   },
   "outputs": [
    {
     "name": "stdout",
     "output_type": "stream",
     "text": [
      "'HTTP status code: 401'\n",
      "'Contents: \"\\'owner\\'\"'\n",
      "'Cookies:<RequestsCookieJar[]>'\n"
     ]
    }
   ],
   "source": [
    "joblauncher.session_list().show()"
   ]
  },
  {
   "cell_type": "code",
   "execution_count": 7,
   "metadata": {
    "collapsed": false
   },
   "outputs": [
    {
     "name": "stdout",
     "output_type": "stream",
     "text": [
      "'HTTP status code: 401'\n",
      "'Contents: \"\\'owner\\'\"'\n",
      "'Cookies:<RequestsCookieJar[]>'\n"
     ]
    }
   ],
   "source": [
    "joblauncher.session_create({}).show()"
   ]
  },
  {
   "cell_type": "code",
   "execution_count": 8,
   "metadata": {
    "collapsed": false
   },
   "outputs": [
    {
     "data": {
      "text/plain": [
       "'http://bbpcd013.bbp.epfl.ch/nip/rendering-resource-manager/v1/session/'"
      ]
     },
     "execution_count": 8,
     "metadata": {},
     "output_type": "execute_result"
    }
   ],
   "source": [
    "joblauncher.resource_url()"
   ]
  },
  {
   "cell_type": "code",
   "execution_count": 11,
   "metadata": {
    "collapsed": false
   },
   "outputs": [
    {
     "name": "stdout",
     "output_type": "stream",
     "text": [
      "'HTTP status code: 200'\n",
      "\"Contents: OrderedDict([(u'contents', u'MPI disabled\\\\n')])\"\n",
      "'Cookies:<RequestsCookieJar[]>'\n"
     ]
    }
   ],
   "source": [
    "joblauncher.session_log().show()"
   ]
  },
  {
   "cell_type": "code",
   "execution_count": 13,
   "metadata": {
    "collapsed": false
   },
   "outputs": [
    {
     "name": "stdout",
     "output_type": "stream",
     "text": [
      "'HTTP status code: 200'\n",
      "'Contents: [OrderedDict([(u\\'id\\', u\\'\"bbic_image_converter_2\"\\'), (u\\'command_line\\', u\\'\"srun -n 1 --account proj39 bbic_stack.py /home/paluchow/out_v1.h5 --create-from /home/tresch/bigbrain600/list.txt --orientation coronal --all-stacks\"\\'), (u\\'environment_variables\\', u\\'\"USELESS_VAR=\\\\\\\\\\\\\\\\\\\\\\\\\"dummy\\\\\\\\\\\\\\\\\\\\\\\\\"\"\\'), (u\\'modules\\', u\\'\"BBP/viz/latest BBP/viz/hdf5/1.8.15 BBP/viz/python/3.4.3\"\\'), (u\\'process_rest_parameters_format\\', u\\'\"--zeroeq-http-server :${rest_port}\"\\'), (u\\'scheduler_rest_parameters_format\\', u\\'\"--zeroeq-http-server :${rest_port}\"\\'), (u\\'project\\', u\\'\"proj39\"\\'), (u\\'queue\\', u\\'\"batch\"\\'), (u\\'exclusive\\', True), (u\\'nb_nodes\\', 1), (u\\'nb_cpus\\', 1), (u\\'nb_gpus\\', 0), (u\\'graceful_exit\\', True), (u\\'wait_until_running\\', True), (u\\'name\\', u\\'bbic\\'), (u\\'description\\', u\\'img converter\\')]), OrderedDict([(u\\'id\\', u\\'bbic_image_converter\\'), (u\\'command_line\\', u\\'srun -n 1 --account proj39 bbic_stack.py out_vm.h5 --create-from /gpfs/bbp.cscs.ch/home/tresch/bigbrain600/list.txt --orientation coronal --all-stacks\\'), (u\\'environment_variables\\', u\\'USELESS_VAR=dummy\\'), (u\\'modules\\', u\\'BBP/viz/latest BBP/viz/hdf5/1.8.15 BBP/viz/python/3.4.3\\'), (u\\'process_rest_parameters_format\\', u\\'--zeroeq-http-server :${rest_port}\\'), (u\\'scheduler_rest_parameters_format\\', u\\'--zeroeq-http-server :${rest_port}\\'), (u\\'project\\', u\\'proj39\\'), (u\\'queue\\', u\\'batch\\'), (u\\'exclusive\\', False), (u\\'nb_nodes\\', 1), (u\\'nb_cpus\\', 1), (u\\'nb_gpus\\', 0), (u\\'graceful_exit\\', False), (u\\'wait_until_running\\', False), (u\\'name\\', u\\'bbic\\'), (u\\'description\\', u\\'img converter\\')]), OrderedDict([(u\\'id\\', u\\'bbic_image_converter_2\\'), (u\\'command_line\\', u\\'bbic_stack.py\\'), (u\\'environment_variables\\', u\\'\\'), (u\\'modules\\', u\\'BBP/viz/latest BBP/viz/hdf5/1.8.15 BBP/viz/python/3.4.3\\'), (u\\'process_rest_parameters_format\\', u\\'--zeroeq-http-server :${rest_port}\\'), (u\\'scheduler_rest_parameters_format\\', u\\'/gpfs/bbp.cscs.ch/project/proj39/rrm_test/out_vm.h5 --create-from /gpfs/bbp.cscs.ch/home/tresch/bigbrain600/list.txt --orientation coronal --all-stacks\\'), (u\\'project\\', u\\'proj39\\'), (u\\'queue\\', u\\'test\\'), (u\\'exclusive\\', False), (u\\'nb_nodes\\', 1), (u\\'nb_cpus\\', 1), (u\\'nb_gpus\\', 0), (u\\'graceful_exit\\', False), (u\\'wait_until_running\\', False), (u\\'name\\', u\\'bbic\\'), (u\\'description\\', u\\'img converter\\')]), OrderedDict([(u\\'id\\', u\\'brayns\\'), (u\\'command_line\\', u\\'braynsService\\'), (u\\'environment_variables\\', u\\'\\'), (u\\'modules\\', u\\'BBP/viz/latest\\'), (u\\'process_rest_parameters_format\\', u\\'--zeroeq-http-server :${rest_port}\\'), (u\\'scheduler_rest_parameters_format\\', u\\'--zeroeq-http-server :${rest_port}\\'), (u\\'project\\', u\\'proj3\\'), (u\\'queue\\', u\\'interactive\\'), (u\\'exclusive\\', True), (u\\'nb_nodes\\', 1), (u\\'nb_cpus\\', 16), (u\\'nb_gpus\\', 1), (u\\'graceful_exit\\', True), (u\\'wait_until_running\\', True), (u\\'name\\', u\\'Brayns\\'), (u\\'description\\', u\\'Large scale Interactive Ray-Tracer\\')]), OrderedDict([(u\\'id\\', u\\'demo_brayns_01\\'), (u\\'command_line\\', u\\'braynsService\\'), (u\\'environment_variables\\', u\\'DEFLECT_ID=Brayns\\'), (u\\'modules\\', u\\'BBP/viz/latest\\'), (u\\'process_rest_parameters_format\\', u\\'\\'), (u\\'scheduler_rest_parameters_format\\', u\\'--load-cache-file /gpfs/bbp.cscs.ch/project/proj3/resources/scenes/Column --sun-on-camera 1 --ambient-occlusion 1 --material noshading --window-size 1500 3000 --jpeg-compression 50 --zeroeq-http-server :${rest_port}\\'), (u\\'project\\', u\\'proj3\\'), (u\\'queue\\', u\\'interactive\\'), (u\\'exclusive\\', True), (u\\'nb_nodes\\', 1), (u\\'nb_cpus\\', 16), (u\\'nb_gpus\\', 0), (u\\'graceful_exit\\', True), (u\\'wait_until_running\\', True), (u\\'name\\', u\\'Mini-Column\\'), (u\\'description\\', u\\'Mini-column made of 50 neurons\\')]), OrderedDict([(u\\'id\\', u\\'demo_livre_01\\'), (u\\'command_line\\', u\\'livre\\'), (u\\'environment_variables\\', u\\'EQ_WINDOW_IATTR_HINT_WIDTH=1920 EQ_WINDOW_IATTR_HINT_HEIGHT=1080 DEFLECT_ID=Livre\\'), (u\\'modules\\', u\\'BBP/viz/latest\\'), (u\\'process_rest_parameters_format\\', u\\'\\'), (u\\'scheduler_rest_parameters_format\\', u\\'--volume bbic:///gpfs/bbp.cscs.ch/project/proj3/resources/volumes/bbic/rat.h5 --synchronous --sse 1 --min-lod 3 --transfer-function /gpfs/bbp.cscs.ch/project/proj3/resources/volumes/bbic/demo-tf.1dt --zeroeq-http-server :${rest_port}\\'), (u\\'project\\', u\\'proj3\\'), (u\\'queue\\', u\\'interactive\\'), (u\\'exclusive\\', True), (u\\'nb_nodes\\', 1), (u\\'nb_cpus\\', 16), (u\\'nb_gpus\\', 1), (u\\'graceful_exit\\', True), (u\\'wait_until_running\\', True), (u\\'name\\', u\\'Rat brain\\'), (u\\'description\\', u\\'Rat brain volume\\')]), OrderedDict([(u\\'id\\', u\\'demo_rtneuron_01\\'), (u\\'command_line\\', u\\'rtneuron-app.py\\'), (u\\'environment_variables\\', u\\'DEFLECT_ID=ISC-RTNeuron\\'), (u\\'modules\\', u\\'BBP/viz/latest BBP/viz/neuroscheme\\'), (u\\'process_rest_parameters_format\\', u\\'\\'), (u\\'scheduler_rest_parameters_format\\', u\\'-b /gpfs/bbp.cscs.ch/project/proj3/simulations/vizCa2p0_1x7/BlueConfig --target Slice soma -r soma --no-morphologies --alpha-blending --slices 4 --background 0.4 0.4 0.4 --eq-layout Simple --window 1920 1080\\'), (u\\'project\\', u\\'proj3\\'), (u\\'queue\\', u\\'interactive\\'), (u\\'exclusive\\', True), (u\\'nb_nodes\\', 1), (u\\'nb_cpus\\', 16), (u\\'nb_gpus\\', 1), (u\\'graceful_exit\\', True), (u\\'wait_until_running\\', False), (u\\'name\\', u\\'Epilectic Slice\\'), (u\\'description\\', u\\'Epilectic Slice\\')]), OrderedDict([(u\\'id\\', u\\'ipythonnotebook\\'), (u\\'command_line\\', u\\'ipython\\'), (u\\'environment_variables\\', u\\'\\'), (u\\'modules\\', u\\'BBP/viz/latest\\'), (u\\'process_rest_parameters_format\\', u\\'notebook --no-browser --ip= --port=${rest_port}\\'), (u\\'scheduler_rest_parameters_format\\', u\\'notebook --no-browser --ip= --port=${rest_port}\\'), (u\\'project\\', u\\'proj3\\'), (u\\'queue\\', u\\'interactive\\'), (u\\'exclusive\\', True), (u\\'nb_nodes\\', 1), (u\\'nb_cpus\\', 16), (u\\'nb_gpus\\', 1), (u\\'graceful_exit\\', True), (u\\'wait_until_running\\', False), (u\\'name\\', u\\'RTNeuron notebook\\'), (u\\'description\\', u\\'RTNeuron notebook\\')]), OrderedDict([(u\\'id\\', u\\'livre\\'), (u\\'command_line\\', u\\'livre\\'), (u\\'environment_variables\\', u\\'\\'), (u\\'modules\\', u\\'BBP/viz/latest\\'), (u\\'process_rest_parameters_format\\', u\\'--zeroeq-http-server :${rest_port}\\'), (u\\'scheduler_rest_parameters_format\\', u\\'--zeroeq-http-server :${rest_port}\\'), (u\\'project\\', u\\'proj3\\'), (u\\'queue\\', u\\'interactive\\'), (u\\'exclusive\\', True), (u\\'nb_nodes\\', 1), (u\\'nb_cpus\\', 16), (u\\'nb_gpus\\', 1), (u\\'graceful_exit\\', True), (u\\'wait_until_running\\', True), (u\\'name\\', u\\'Livre\\'), (u\\'description\\', u\\'Large scale Interactive Volumen REnderer\\')]), OrderedDict([(u\\'id\\', u\\'rtneuron\\'), (u\\'command_line\\', u\\'rtneuron-app.py\\'), (u\\'environment_variables\\', u\\'\\'), (u\\'modules\\', u\\'BBP/viz/latest\\'), (u\\'process_rest_parameters_format\\', u\\'--zeroeq-http-server :${rest_port}\\'), (u\\'scheduler_rest_parameters_format\\', u\\'--zeroeq-http-server :${rest_port}\\'), (u\\'project\\', u\\'proj3\\'), (u\\'queue\\', u\\'interactive\\'), (u\\'exclusive\\', True), (u\\'nb_nodes\\', 1), (u\\'nb_cpus\\', 16), (u\\'nb_gpus\\', 1), (u\\'graceful_exit\\', True), (u\\'wait_until_running\\', True), (u\\'name\\', u\\'RTNeuron\\'), (u\\'description\\', u\\'Scalable real-time rendering tool for the visualization of neuronal simulations based on cable models\\')]), OrderedDict([(u\\'id\\', u\\'rtneuron_notebook\\'), (u\\'command_line\\', u\\'~/.vnc/rtneuron_notebook\\'), (u\\'environment_variables\\', u\\'\\'), (u\\'modules\\', u\\'\\'), (u\\'process_rest_parameters_format\\', u\\'notebook --no-browser --ip= --port=${rest_port}\\'), (u\\'scheduler_rest_parameters_format\\', u\\'notebook --no-browser --ip= --port=${rest_port}\\'), (u\\'project\\', u\\'proj3\\'), (u\\'queue\\', u\\'interactive\\'), (u\\'exclusive\\', True), (u\\'nb_nodes\\', 1), (u\\'nb_cpus\\', 16), (u\\'nb_gpus\\', 1), (u\\'graceful_exit\\', True), (u\\'wait_until_running\\', False), (u\\'name\\', u\\'RTNeuron notebook\\'), (u\\'description\\', u\\'IPython Notebook for RTNeuron\\')]), OrderedDict([(u\\'id\\', u\\'vnc-brayns\\'), (u\\'command_line\\', u\\'~/.vnc/brayns\\'), (u\\'environment_variables\\', u\\'\\'), (u\\'modules\\', u\\'\\'), (u\\'process_rest_parameters_format\\', u\\'--zeroeq-http-server :${rest_port}\\'), (u\\'scheduler_rest_parameters_format\\', u\\'--zeroeq-http-server :${rest_port}\\'), (u\\'project\\', u\\'proj3\\'), (u\\'queue\\', u\\'interactive\\'), (u\\'exclusive\\', True), (u\\'nb_nodes\\', 1), (u\\'nb_cpus\\', 16), (u\\'nb_gpus\\', 1), (u\\'graceful_exit\\', True), (u\\'wait_until_running\\', True), (u\\'name\\', u\\'Brayns for VNC\\'), (u\\'description\\', u\\'A VNC connection to Brayns\\')]), OrderedDict([(u\\'id\\', u\\'wrapper\\'), (u\\'command_line\\', u\\'pip install flask --user; python /gpfs/bbp.cscs.ch/apps/viz/bbp/dev/wrapper/wrapper.py\\'), (u\\'environment_variables\\', u\\'\\'), (u\\'modules\\', u\\'BBP/viz/latest BBP/viz/hdf5/1.8.15 BBP/viz/python/3.4.3\\'), (u\\'process_rest_parameters_format\\', u\\'--zeroeq-http-server :${rest_port}\\'), (u\\'scheduler_rest_parameters_format\\', u\\'--script-command \"bbic_stack.py /gpfs/bbp.cscs.ch/project/proj39/rrm_test/out_vm.h5 --create-from /gpfs/bbp.cscs.ch/home/tresch/bigbrain600/list.txt --orientation coronal --all-stacks\"\\'), (u\\'project\\', u\\'proj39\\'), (u\\'queue\\', u\\'test\\'), (u\\'exclusive\\', False), (u\\'nb_nodes\\', 1), (u\\'nb_cpus\\', 1), (u\\'nb_gpus\\', 0), (u\\'graceful_exit\\', False), (u\\'wait_until_running\\', False), (u\\'name\\', u\\'bbic\\'), (u\\'description\\', u\\'python wrapper for bbic\\')])]'\n",
      "'Cookies:<RequestsCookieJar[]>'\n"
     ]
    }
   ],
   "source": [
    "joblauncher.config_list().show()"
   ]
  },
  {
   "cell_type": "code",
   "execution_count": 20,
   "metadata": {
    "collapsed": true
   },
   "outputs": [],
   "source": [
    "payload = {\n",
    "\"id\": \"bbic_image_converter_2\",\n",
    "\"renderer_id\": \"bbic_image_converter_2\",\n",
    "\"owner\": \"paluchow\"\n",
    "}"
   ]
  },
  {
   "cell_type": "code",
   "execution_count": 21,
   "metadata": {
    "collapsed": false,
    "scrolled": true
   },
   "outputs": [
    {
     "ename": "Exception",
     "evalue": "{\"contents\": \"Traceback (most recent call last):\\n  File \\\"/opt/virtualenv/lib/python2.6/site-packages/rendering_resource_manager_service/session/views.py\\\", line 249, in execute\\n    response = cls.__schedule_job(session, request)\\n  File \\\"/opt/virtualenv/lib/python2.6/site-packages/rendering_resource_manager_service/session/views.py\\\", line 309, in __schedule_job\\n    status = job_manager.globalJobManager.schedule(session, job_information)\\n  File \\\"/opt/virtualenv/lib/python2.6/site-packages/rendering_resource_manager_service/session/management/job_manager.py\\\", line 97, in schedule\\n    status = self.start(session, job_information)\\n  File \\\"/opt/virtualenv/lib/python2.6/site-packages/rendering_resource_manager_service/session/management/job_manager.py\\\", line 178, in start\\n    values += job_information.environment.split()\\nAttributeError: 'NoneType' object has no attribute 'split'\\n\"}",
     "output_type": "error",
     "traceback": [
      "\u001b[0;31m---------------------------------------------------------------------------\u001b[0m",
      "\u001b[0;31mException\u001b[0m                                 Traceback (most recent call last)",
      "\u001b[0;32m<ipython-input-21-c91d95eb4b9b>\u001b[0m in \u001b[0;36m<module>\u001b[0;34m()\u001b[0m\n\u001b[0;32m----> 1\u001b[0;31m \u001b[0mresp\u001b[0m \u001b[0;34m=\u001b[0m \u001b[0mresource\u001b[0m\u001b[0;34m.\u001b[0m\u001b[0msession_schedule\u001b[0m\u001b[0;34m(\u001b[0m\u001b[0mpayload\u001b[0m\u001b[0;34m=\u001b[0m\u001b[0mpayload\u001b[0m\u001b[0;34m)\u001b[0m\u001b[0;34m\u001b[0m\u001b[0m\n\u001b[0m",
      "\u001b[0;32m/Users/mateusz/Dropbox/EPFL/Semester II/Semester Project/joblauncher/joblauncher/resource_allocator.pyc\u001b[0m in \u001b[0;36msession_schedule\u001b[0;34m(self, payload)\u001b[0m\n\u001b[1;32m    171\u001b[0m         \"\"\"\n\u001b[1;32m    172\u001b[0m         return self._status_check(http_request(\n\u001b[0;32m--> 173\u001b[0;31m             HTTP_METHOD_PUT, self._url_session, payload, 'schedule', self._cookies))\n\u001b[0m\u001b[1;32m    174\u001b[0m \u001b[0;34m\u001b[0m\u001b[0m\n\u001b[1;32m    175\u001b[0m     \u001b[0;32mdef\u001b[0m \u001b[0msession_status\u001b[0m\u001b[0;34m(\u001b[0m\u001b[0mself\u001b[0m\u001b[0;34m)\u001b[0m\u001b[0;34m:\u001b[0m\u001b[0;34m\u001b[0m\u001b[0m\n",
      "\u001b[0;32m/Users/mateusz/Dropbox/EPFL/Semester II/Semester Project/joblauncher/joblauncher/resource_allocator.pyc\u001b[0m in \u001b[0;36m_status_check\u001b[0;34m(self, status)\u001b[0m\n\u001b[1;32m    243\u001b[0m                 \u001b[0;31m# be destroyed\u001b[0m\u001b[0;34m\u001b[0m\u001b[0;34m\u001b[0m\u001b[0m\n\u001b[1;32m    244\u001b[0m                 \u001b[0mself\u001b[0m\u001b[0;34m.\u001b[0m\u001b[0msession_delete\u001b[0m\u001b[0;34m(\u001b[0m\u001b[0;34m)\u001b[0m\u001b[0;34m\u001b[0m\u001b[0m\n\u001b[0;32m--> 245\u001b[0;31m                 \u001b[0;32mraise\u001b[0m \u001b[0mException\u001b[0m\u001b[0;34m(\u001b[0m\u001b[0mstatus\u001b[0m\u001b[0;34m.\u001b[0m\u001b[0mcontents\u001b[0m\u001b[0;34m)\u001b[0m\u001b[0;34m\u001b[0m\u001b[0m\n\u001b[0m\u001b[1;32m    246\u001b[0m         \u001b[0;32mreturn\u001b[0m \u001b[0mstatus\u001b[0m\u001b[0;34m\u001b[0m\u001b[0m\n",
      "\u001b[0;31mException\u001b[0m: {\"contents\": \"Traceback (most recent call last):\\n  File \\\"/opt/virtualenv/lib/python2.6/site-packages/rendering_resource_manager_service/session/views.py\\\", line 249, in execute\\n    response = cls.__schedule_job(session, request)\\n  File \\\"/opt/virtualenv/lib/python2.6/site-packages/rendering_resource_manager_service/session/views.py\\\", line 309, in __schedule_job\\n    status = job_manager.globalJobManager.schedule(session, job_information)\\n  File \\\"/opt/virtualenv/lib/python2.6/site-packages/rendering_resource_manager_service/session/management/job_manager.py\\\", line 97, in schedule\\n    status = self.start(session, job_information)\\n  File \\\"/opt/virtualenv/lib/python2.6/site-packages/rendering_resource_manager_service/session/management/job_manager.py\\\", line 178, in start\\n    values += job_information.environment.split()\\nAttributeError: 'NoneType' object has no attribute 'split'\\n\"}"
     ]
    }
   ],
   "source": [
    "resp = resource.session_schedule(payload=payload)"
   ]
  },
  {
   "cell_type": "code",
   "execution_count": null,
   "metadata": {
    "collapsed": false
   },
   "outputs": [],
   "source": [
    "resp.contents"
   ]
  },
  {
   "cell_type": "code",
   "execution_count": null,
   "metadata": {
    "collapsed": true
   },
   "outputs": [],
   "source": []
  }
 ],
 "metadata": {
  "kernelspec": {
   "display_name": "Python 2",
   "language": "python",
   "name": "python2"
  },
  "language_info": {
   "codemirror_mode": {
    "name": "ipython",
    "version": 2
   },
   "file_extension": ".py",
   "mimetype": "text/x-python",
   "name": "python",
   "nbconvert_exporter": "python",
   "pygments_lexer": "ipython2",
   "version": "2.7.13"
  }
 },
 "nbformat": 4,
 "nbformat_minor": 0
}
