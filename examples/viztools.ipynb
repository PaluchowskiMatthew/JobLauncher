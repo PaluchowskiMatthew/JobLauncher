{
 "cells": [
  {
   "cell_type": "code",
   "execution_count": 1,
   "metadata": {
    "collapsed": true
   },
   "outputs": [],
   "source": [
    "import os\n",
    "import sys\n",
    "\n",
    "sys.path.append('../')"
   ]
  },
  {
   "cell_type": "code",
   "execution_count": 3,
   "metadata": {
    "collapsed": false
   },
   "outputs": [
    {
     "ename": "ModuleNotFoundError",
     "evalue": "No module named 'python_jsonschema_objects'",
     "output_type": "error",
     "traceback": [
      "\u001b[0;31m---------------------------------------------------------------------------\u001b[0m",
      "\u001b[0;31mModuleNotFoundError\u001b[0m                       Traceback (most recent call last)",
      "\u001b[0;32m<ipython-input-3-ab8496e73fc2>\u001b[0m in \u001b[0;36m<module>\u001b[0;34m()\u001b[0m\n\u001b[1;32m      1\u001b[0m \u001b[0;31m#!jupyter nbextension enable --py --sys-prefix widgetsnbextension\u001b[0m\u001b[0;34m\u001b[0m\u001b[0;34m\u001b[0m\u001b[0m\n\u001b[0;32m----> 2\u001b[0;31m \u001b[0;32mimport\u001b[0m \u001b[0mviztools\u001b[0m\u001b[0;34m\u001b[0m\u001b[0m\n\u001b[0m",
      "\u001b[0;32m/Users/mateusz/Dropbox/EPFL/Semester II/Semester Project/VizTools/viztools/__init__.py\u001b[0m in \u001b[0;36m<module>\u001b[0;34m()\u001b[0m\n\u001b[1;32m     33\u001b[0m \u001b[0;32mfrom\u001b[0m \u001b[0;34m.\u001b[0m\u001b[0mversion\u001b[0m \u001b[0;32mimport\u001b[0m \u001b[0mVERSION\u001b[0m\u001b[0;34m\u001b[0m\u001b[0m\n\u001b[1;32m     34\u001b[0m \u001b[0;32mfrom\u001b[0m \u001b[0;34m.\u001b[0m\u001b[0mresource_allocator\u001b[0m \u001b[0;32mimport\u001b[0m \u001b[0mResourceAllocator\u001b[0m\u001b[0;34m\u001b[0m\u001b[0m\n\u001b[0;32m---> 35\u001b[0;31m \u001b[0;32mfrom\u001b[0m \u001b[0;34m.\u001b[0m\u001b[0mapplication\u001b[0m \u001b[0;32mimport\u001b[0m \u001b[0mApplication\u001b[0m\u001b[0;34m\u001b[0m\u001b[0m\n\u001b[0m\u001b[1;32m     36\u001b[0m \u001b[0;32mfrom\u001b[0m \u001b[0;34m.\u001b[0m\u001b[0mvisualizer\u001b[0m \u001b[0;32mimport\u001b[0m \u001b[0mVisualizer\u001b[0m\u001b[0;34m\u001b[0m\u001b[0m\n\u001b[1;32m     37\u001b[0m \u001b[0;32mfrom\u001b[0m \u001b[0;34m.\u001b[0m\u001b[0msettings\u001b[0m \u001b[0;32mimport\u001b[0m \u001b[0mDISPLAYWALLS\u001b[0m\u001b[0;34m,\u001b[0m \u001b[0mCOLORMAP_SIMULATION\u001b[0m\u001b[0;34m,\u001b[0m \u001b[0mSIMULATION_DEFAULT_RANGE\u001b[0m\u001b[0;34m\u001b[0m\u001b[0m\n",
      "\u001b[0;32m/Users/mateusz/Dropbox/EPFL/Semester II/Semester Project/VizTools/viztools/application.py\u001b[0m in \u001b[0;36m<module>\u001b[0;34m()\u001b[0m\n\u001b[1;32m     30\u001b[0m \u001b[0;34m\u001b[0m\u001b[0m\n\u001b[1;32m     31\u001b[0m \u001b[0;32mimport\u001b[0m \u001b[0mjson\u001b[0m\u001b[0;34m\u001b[0m\u001b[0m\n\u001b[0;32m---> 32\u001b[0;31m \u001b[0;32mimport\u001b[0m \u001b[0mpython_jsonschema_objects\u001b[0m \u001b[0;32mas\u001b[0m \u001b[0mpjs\u001b[0m\u001b[0;34m\u001b[0m\u001b[0m\n\u001b[0m\u001b[1;32m     33\u001b[0m \u001b[0;34m\u001b[0m\u001b[0m\n\u001b[1;32m     34\u001b[0m \u001b[0;32mfrom\u001b[0m \u001b[0mviztools\u001b[0m\u001b[0;34m.\u001b[0m\u001b[0mutils\u001b[0m \u001b[0;32mimport\u001b[0m \u001b[0mHTTP_METHOD_GET\u001b[0m\u001b[0;34m,\u001b[0m \u001b[0mHTTP_METHOD_PUT\u001b[0m\u001b[0;34m,\u001b[0m \u001b[0mHTTP_STATUS_OK\u001b[0m\u001b[0;34m\u001b[0m\u001b[0m\n",
      "\u001b[0;31mModuleNotFoundError\u001b[0m: No module named 'python_jsonschema_objects'"
     ]
    }
   ],
   "source": [
    "#!jupyter nbextension enable --py --sys-prefix widgetsnbextension\n",
    "import viztools"
   ]
  },
  {
   "cell_type": "code",
   "execution_count": 5,
   "metadata": {
    "collapsed": false
   },
   "outputs": [
    {
     "ename": "Exception",
     "evalue": "ERROR: Failed to connect to Application, did you start it with the --zeroeq-http-server command line option?",
     "output_type": "error",
     "traceback": [
      "\u001b[0;31m---------------------------------------------------------------------------\u001b[0m",
      "\u001b[0;31mException\u001b[0m                                 Traceback (most recent call last)",
      "\u001b[0;32m<ipython-input-5-570d2e5cca6f>\u001b[0m in \u001b[0;36m<module>\u001b[0;34m()\u001b[0m\n\u001b[0;32m----> 1\u001b[0;31m \u001b[0mbrayns\u001b[0m \u001b[0;34m=\u001b[0m \u001b[0mviztools\u001b[0m\u001b[0;34m.\u001b[0m\u001b[0mVisualizer\u001b[0m\u001b[0;34m(\u001b[0m\u001b[0;34m'localhost:5000'\u001b[0m\u001b[0;34m)\u001b[0m\u001b[0;34m\u001b[0m\u001b[0m\n\u001b[0m",
      "\u001b[0;32m/Users/mateusz/Dropbox/EPFL/Semester II/Semester Project/VizTools/viztools/visualizer.pyc\u001b[0m in \u001b[0;36m__init__\u001b[0;34m(self, resource)\u001b[0m\n\u001b[1;32m     80\u001b[0m         \u001b[0mvisualizers\u001b[0m\u001b[0;34m.\u001b[0m\u001b[0mappend\u001b[0m\u001b[0;34m(\u001b[0m\u001b[0mself\u001b[0m\u001b[0;34m)\u001b[0m\u001b[0;34m\u001b[0m\u001b[0m\n\u001b[1;32m     81\u001b[0m \u001b[0;34m\u001b[0m\u001b[0m\n\u001b[0;32m---> 82\u001b[0;31m         \u001b[0msuper\u001b[0m\u001b[0;34m(\u001b[0m\u001b[0mVisualizer\u001b[0m\u001b[0;34m,\u001b[0m \u001b[0mself\u001b[0m\u001b[0;34m)\u001b[0m\u001b[0;34m.\u001b[0m\u001b[0m__init__\u001b[0m\u001b[0;34m(\u001b[0m\u001b[0mresource\u001b[0m\u001b[0;34m)\u001b[0m\u001b[0;34m\u001b[0m\u001b[0m\n\u001b[0m\u001b[1;32m     83\u001b[0m \u001b[0;34m\u001b[0m\u001b[0m\n\u001b[1;32m     84\u001b[0m         \u001b[0;32mif\u001b[0m \u001b[0min_notebook\u001b[0m\u001b[0;34m(\u001b[0m\u001b[0;34m)\u001b[0m\u001b[0;34m:\u001b[0m\u001b[0;34m\u001b[0m\u001b[0m\n",
      "\u001b[0;32m/Users/mateusz/Dropbox/EPFL/Semester II/Semester Project/VizTools/viztools/application.pyc\u001b[0m in \u001b[0;36m__init__\u001b[0;34m(self, resource)\u001b[0m\n\u001b[1;32m     79\u001b[0m \u001b[0;34m\u001b[0m\u001b[0m\n\u001b[1;32m     80\u001b[0m         \u001b[0mself\u001b[0m\u001b[0;34m.\u001b[0m\u001b[0m_url\u001b[0m \u001b[0;34m=\u001b[0m \u001b[0mself\u001b[0m\u001b[0;34m.\u001b[0m\u001b[0m_allocator\u001b[0m\u001b[0;34m.\u001b[0m\u001b[0mresource_url\u001b[0m\u001b[0;34m(\u001b[0m\u001b[0;34m)\u001b[0m\u001b[0;34m\u001b[0m\u001b[0m\n\u001b[0;32m---> 81\u001b[0;31m         \u001b[0mself\u001b[0m\u001b[0;34m.\u001b[0m\u001b[0m_registry\u001b[0m\u001b[0;34m,\u001b[0m \u001b[0mret_code\u001b[0m \u001b[0;34m=\u001b[0m \u001b[0mself\u001b[0m\u001b[0;34m.\u001b[0m\u001b[0m_obtain_registry\u001b[0m\u001b[0;34m(\u001b[0m\u001b[0;34m)\u001b[0m\u001b[0;34m\u001b[0m\u001b[0m\n\u001b[0m\u001b[1;32m     82\u001b[0m         \u001b[0;32mif\u001b[0m \u001b[0mret_code\u001b[0m \u001b[0;34m!=\u001b[0m \u001b[0mHTTP_STATUS_OK\u001b[0m\u001b[0;34m:\u001b[0m\u001b[0;34m\u001b[0m\u001b[0m\n\u001b[1;32m     83\u001b[0m             \u001b[0;32mraise\u001b[0m \u001b[0mException\u001b[0m\u001b[0;34m(\u001b[0m\u001b[0;34m'Failed to obtain registry from application'\u001b[0m\u001b[0;34m)\u001b[0m\u001b[0;34m\u001b[0m\u001b[0m\n",
      "\u001b[0;32m/Users/mateusz/Dropbox/EPFL/Semester II/Semester Project/VizTools/viztools/application.pyc\u001b[0m in \u001b[0;36m_obtain_registry\u001b[0;34m(self)\u001b[0m\n\u001b[1;32m    319\u001b[0m     \u001b[0;32mdef\u001b[0m \u001b[0m_obtain_registry\u001b[0m\u001b[0;34m(\u001b[0m\u001b[0mself\u001b[0m\u001b[0;34m)\u001b[0m\u001b[0;34m:\u001b[0m\u001b[0;34m\u001b[0m\u001b[0m\n\u001b[1;32m    320\u001b[0m         \u001b[0;34m\"\"\" Returns the registry of PUT and GET objects of the application \"\"\"\u001b[0m\u001b[0;34m\u001b[0m\u001b[0m\n\u001b[0;32m--> 321\u001b[0;31m         \u001b[0mstatus\u001b[0m \u001b[0;34m=\u001b[0m \u001b[0mself\u001b[0m\u001b[0;34m.\u001b[0m\u001b[0m_allocator\u001b[0m\u001b[0;34m.\u001b[0m\u001b[0msession_command\u001b[0m\u001b[0;34m(\u001b[0m\u001b[0mHTTP_METHOD_GET\u001b[0m\u001b[0;34m,\u001b[0m \u001b[0;34m'registry'\u001b[0m\u001b[0;34m)\u001b[0m\u001b[0;34m\u001b[0m\u001b[0m\n\u001b[0m\u001b[1;32m    322\u001b[0m         \u001b[0;32mreturn\u001b[0m \u001b[0mstatus\u001b[0m\u001b[0;34m.\u001b[0m\u001b[0mcontents\u001b[0m\u001b[0;34m,\u001b[0m \u001b[0mstatus\u001b[0m\u001b[0;34m.\u001b[0m\u001b[0mcode\u001b[0m\u001b[0;34m\u001b[0m\u001b[0m\n\u001b[1;32m    323\u001b[0m \u001b[0;34m\u001b[0m\u001b[0m\n",
      "\u001b[0;32m/Users/mateusz/Dropbox/EPFL/Semester II/Semester Project/VizTools/viztools/resource_allocator.pyc\u001b[0m in \u001b[0;36msession_command\u001b[0;34m(self, method, command, payload)\u001b[0m\n\u001b[1;32m    164\u001b[0m         \"\"\"\n\u001b[1;32m    165\u001b[0m         return self._status_check(http_request(\n\u001b[0;32m--> 166\u001b[0;31m                 method, self._url_session, payload, command, self._cookies))\n\u001b[0m\u001b[1;32m    167\u001b[0m \u001b[0;34m\u001b[0m\u001b[0m\n\u001b[1;32m    168\u001b[0m     \u001b[0;32mdef\u001b[0m \u001b[0msession_schedule\u001b[0m\u001b[0;34m(\u001b[0m\u001b[0mself\u001b[0m\u001b[0;34m,\u001b[0m \u001b[0mpayload\u001b[0m\u001b[0;34m)\u001b[0m\u001b[0;34m:\u001b[0m\u001b[0;34m\u001b[0m\u001b[0m\n",
      "\u001b[0;32m/Users/mateusz/Dropbox/EPFL/Semester II/Semester Project/VizTools/viztools/utils.pyc\u001b[0m in \u001b[0;36mhttp_request\u001b[0;34m(method, url, body, command, cookies)\u001b[0m\n\u001b[1;32m     94\u001b[0m         \u001b[0mrequest\u001b[0m\u001b[0;34m.\u001b[0m\u001b[0mclose\u001b[0m\u001b[0;34m(\u001b[0m\u001b[0;34m)\u001b[0m\u001b[0;34m\u001b[0m\u001b[0m\n\u001b[1;32m     95\u001b[0m     \u001b[0;32mexcept\u001b[0m \u001b[0mrequests\u001b[0m\u001b[0;34m.\u001b[0m\u001b[0mexceptions\u001b[0m\u001b[0;34m.\u001b[0m\u001b[0mConnectionError\u001b[0m\u001b[0;34m:\u001b[0m\u001b[0;34m\u001b[0m\u001b[0m\n\u001b[0;32m---> 96\u001b[0;31m         raise Exception('ERROR: Failed to connect to Application, did you start it with the '\n\u001b[0m\u001b[1;32m     97\u001b[0m                         '--zeroeq-http-server command line option?')\n\u001b[1;32m     98\u001b[0m     \u001b[0;32mreturn\u001b[0m \u001b[0mresponse\u001b[0m\u001b[0;34m\u001b[0m\u001b[0m\n",
      "\u001b[0;31mException\u001b[0m: ERROR: Failed to connect to Application, did you start it with the --zeroeq-http-server command line option?"
     ]
    }
   ],
   "source": [
    "brayns = viztools.Visualizer('localhost:5000')"
   ]
  },
  {
   "cell_type": "code",
   "execution_count": null,
   "metadata": {
    "collapsed": false
   },
   "outputs": [],
   "source": [
    "# Example Data source\n",
    "import os\n",
    "test_file = os.environ['PWD'] + '/examples/1bna.pdb'\n",
    "brayns.data_source.clear()\n",
    "brayns.data_source.request()\n",
    "brayns.set_data_source( color_scheme=brayns.COLOR_SCHEME_PROTEIN_ATOMS, pdb_file=test_file)\n",
    "brayns.reset_scene()"
   ]
  },
  {
   "cell_type": "code",
   "execution_count": null,
   "metadata": {
    "collapsed": false
   },
   "outputs": [],
   "source": [
    "# Settings\n",
    "brayns.set_settings(\n",
    "    samples_per_pixel=1, shadows=True, soft_shadows=False,\n",
    "    epsilon=0.01, shading='diffuse', shader='basic', background_color=[0.01,0.01,0.01],\n",
    "    head_light=True)"
   ]
  },
  {
   "cell_type": "code",
   "execution_count": null,
   "metadata": {
    "collapsed": false
   },
   "outputs": [],
   "source": [
    "brayns.set_data_source(\n",
    "    color_scheme=brayns.COLOR_SCHEME_NEURON_BY_SEGMENT_TYPE,\n",
    "    section_types=[brayns.SECTION_TYPES_SOMA,\n",
    "                   brayns.SECTION_TYPES_AXON,\n",
    "                   brayns.SECTION_TYPES_DENDRITE],\n",
    "    morphology_folder='/home/favreau/medias/morphologies/guy/VirtualCell/column/L1HAC')"
   ]
  },
  {
   "cell_type": "code",
   "execution_count": null,
   "metadata": {
    "collapsed": false
   },
   "outputs": [],
   "source": [
    "brayns.stream(host='localhost', enabled=True)"
   ]
  },
  {
   "cell_type": "code",
   "execution_count": null,
   "metadata": {
    "collapsed": false
   },
   "outputs": [],
   "source": [
    "from PIL import ImageFilter\n",
    "brayns.image().filter(ImageFilter.SHARPEN)"
   ]
  },
  {
   "cell_type": "code",
   "execution_count": null,
   "metadata": {
    "collapsed": false
   },
   "outputs": [],
   "source": [
    "brayns.scene.materials[0]"
   ]
  },
  {
   "cell_type": "code",
   "execution_count": null,
   "metadata": {
    "collapsed": false
   },
   "outputs": [],
   "source": [
    "brayns.reset_camera()"
   ]
  },
  {
   "cell_type": "code",
   "execution_count": null,
   "metadata": {
    "collapsed": false
   },
   "outputs": [],
   "source": [
    "brayns.set_colormap(range=viztools.SIMULATION_DEFAULT_RANGE, rgba=viztools.COLORMAP_SIMULATION)"
   ]
  },
  {
   "cell_type": "code",
   "execution_count": null,
   "metadata": {
    "collapsed": false
   },
   "outputs": [],
   "source": [
    "brayns.simulation_slider()"
   ]
  },
  {
   "cell_type": "code",
   "execution_count": null,
   "metadata": {
    "collapsed": false
   },
   "outputs": [],
   "source": [
    "from ipywidgets import widgets\n",
    "from IPython.display import display\n",
    "import time\n",
    "\n",
    "def remove_route():\n",
    "    print('remove route')\n",
    "    # TODO: remove route when streaming widget is closed\n",
    "    import requests\n",
    "    request = requests.delete('http://localhost:8385/image-streaming-service/v1/route')\n",
    "    request.close()\n",
    "\n",
    "# Adding the time modifies the URL and forces the widget to refresh the feed. The time is not\n",
    "# used by the image streaming service\n",
    "html = '<img src=\"http://localhost:8385/image-streaming-service/v1/image_streaming_feed/demo?' +\\\n",
    "     str(int(time.time())) + '\"/>'\n",
    "remove_route() #TODO: Check if the widget has an on_close event.\n",
    "streamer = widgets.HTML(value=html,placeholder='_blank',description='_blank',disabled=False)\n",
    "display(streamer, embed=True )"
   ]
  },
  {
   "cell_type": "code",
   "execution_count": null,
   "metadata": {
    "collapsed": false
   },
   "outputs": [],
   "source": [
    "import math\n",
    "import time\n",
    "radius = 1.0\n",
    "for i in range(0,364,4):\n",
    "    brayns.set_camera(\n",
    "        origin=[0.5+radius*math.sin(float(i+180)/180*math.pi),0.5,0.5+radius*math.cos(float(i-180)/180*math.pi)],\n",
    "        look_at=[0.5,0.5,0.5],up=[0,1,0])\n",
    "    #time.sleep(0.1)"
   ]
  },
  {
   "cell_type": "code",
   "execution_count": null,
   "metadata": {
    "collapsed": false
   },
   "outputs": [],
   "source": [
    "del brayns"
   ]
  },
  {
   "cell_type": "code",
   "execution_count": null,
   "metadata": {
    "collapsed": false
   },
   "outputs": [],
   "source": [
    "import requests\n",
    "    request = requests.delete('http://localhost:8385/image-streaming-service/v1/route')\n",
    "    request.close()"
   ]
  },
  {
   "cell_type": "code",
   "execution_count": null,
   "metadata": {
    "collapsed": false
   },
   "outputs": [],
   "source": [
    "print(widgets.HTML.observe() on_close().__doc__)"
   ]
  },
  {
   "cell_type": "code",
   "execution_count": null,
   "metadata": {
    "collapsed": false
   },
   "outputs": [],
   "source": [
    "try:\n",
    "    raise Exception('hello')\n",
    "except Exception as e:\n",
    "    print(e.message)"
   ]
  },
  {
   "cell_type": "code",
   "execution_count": null,
   "metadata": {
    "collapsed": true
   },
   "outputs": [],
   "source": [
    "livre = viztools.Livre()"
   ]
  }
 ],
 "metadata": {
  "kernelspec": {
   "display_name": "Python 3",
   "language": "python",
   "name": "python3"
  },
  "language_info": {
   "codemirror_mode": {
    "name": "ipython",
    "version": 3
   },
   "file_extension": ".py",
   "mimetype": "text/x-python",
   "name": "python",
   "nbconvert_exporter": "python",
   "pygments_lexer": "ipython3",
   "version": "3.6.0"
  }
 },
 "nbformat": 4,
 "nbformat_minor": 0
}
